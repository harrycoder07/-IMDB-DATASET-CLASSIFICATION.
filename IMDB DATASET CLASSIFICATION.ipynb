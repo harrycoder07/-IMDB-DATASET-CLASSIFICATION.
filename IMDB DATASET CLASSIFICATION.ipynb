{
  "nbformat": 4,
  "nbformat_minor": 0,
  "metadata": {
    "colab": {
      "provenance": []
    },
    "kernelspec": {
      "name": "python3",
      "display_name": "Python 3"
    },
    "language_info": {
      "name": "python"
    }
  },
  "cells": [
    {
      "cell_type": "markdown",
      "source": [
        "**Lab 1-Dataframes**"
      ],
      "metadata": {
        "id": "3ZoCsvHuWz6L"
      }
    },
    {
      "cell_type": "code",
      "execution_count": null,
      "metadata": {
        "id": "F53plIt06WMH"
      },
      "outputs": [],
      "source": [
        "import pandas as pd\n",
        "import io\n",
        "from google.colab import drive"
      ]
    },
    {
      "cell_type": "code",
      "source": [
        "drive.mount('/content/drive')\n",
        "df = pd.read_csv('/content/drive/client.csv')\n",
        "print(df)"
      ],
      "metadata": {
        "id": "XwWLneUI60S1"
      },
      "execution_count": null,
      "outputs": []
    },
    {
      "cell_type": "code",
      "source": [
        "df.describe()"
      ],
      "metadata": {
        "colab": {
          "base_uri": "https://localhost:8080/",
          "height": 300
        },
        "id": "qwLFTtE598mE",
        "outputId": "09a0cc9f-00e9-4933-d75c-bfe937bba29b"
      },
      "execution_count": null,
      "outputs": [
        {
          "output_type": "execute_result",
          "data": {
            "text/plain": [
              "            s.no          cost\n",
              "count  21.000000     19.000000\n",
              "mean   11.000000  16844.684211\n",
              "std     6.204837  22199.194385\n",
              "min     1.000000    999.000000\n",
              "25%     6.000000   2000.000000\n",
              "50%    11.000000   5000.000000\n",
              "75%    16.000000  25000.000000\n",
              "max    21.000000  70000.000000"
            ],
            "text/html": [
              "\n",
              "  <div id=\"df-dafd9310-4f90-4fff-992c-944766febc14\">\n",
              "    <div class=\"colab-df-container\">\n",
              "      <div>\n",
              "<style scoped>\n",
              "    .dataframe tbody tr th:only-of-type {\n",
              "        vertical-align: middle;\n",
              "    }\n",
              "\n",
              "    .dataframe tbody tr th {\n",
              "        vertical-align: top;\n",
              "    }\n",
              "\n",
              "    .dataframe thead th {\n",
              "        text-align: right;\n",
              "    }\n",
              "</style>\n",
              "<table border=\"1\" class=\"dataframe\">\n",
              "  <thead>\n",
              "    <tr style=\"text-align: right;\">\n",
              "      <th></th>\n",
              "      <th>s.no</th>\n",
              "      <th>cost</th>\n",
              "    </tr>\n",
              "  </thead>\n",
              "  <tbody>\n",
              "    <tr>\n",
              "      <th>count</th>\n",
              "      <td>21.000000</td>\n",
              "      <td>19.000000</td>\n",
              "    </tr>\n",
              "    <tr>\n",
              "      <th>mean</th>\n",
              "      <td>11.000000</td>\n",
              "      <td>16844.684211</td>\n",
              "    </tr>\n",
              "    <tr>\n",
              "      <th>std</th>\n",
              "      <td>6.204837</td>\n",
              "      <td>22199.194385</td>\n",
              "    </tr>\n",
              "    <tr>\n",
              "      <th>min</th>\n",
              "      <td>1.000000</td>\n",
              "      <td>999.000000</td>\n",
              "    </tr>\n",
              "    <tr>\n",
              "      <th>25%</th>\n",
              "      <td>6.000000</td>\n",
              "      <td>2000.000000</td>\n",
              "    </tr>\n",
              "    <tr>\n",
              "      <th>50%</th>\n",
              "      <td>11.000000</td>\n",
              "      <td>5000.000000</td>\n",
              "    </tr>\n",
              "    <tr>\n",
              "      <th>75%</th>\n",
              "      <td>16.000000</td>\n",
              "      <td>25000.000000</td>\n",
              "    </tr>\n",
              "    <tr>\n",
              "      <th>max</th>\n",
              "      <td>21.000000</td>\n",
              "      <td>70000.000000</td>\n",
              "    </tr>\n",
              "  </tbody>\n",
              "</table>\n",
              "</div>\n",
              "      <button class=\"colab-df-convert\" onclick=\"convertToInteractive('df-dafd9310-4f90-4fff-992c-944766febc14')\"\n",
              "              title=\"Convert this dataframe to an interactive table.\"\n",
              "              style=\"display:none;\">\n",
              "        \n",
              "  <svg xmlns=\"http://www.w3.org/2000/svg\" height=\"24px\"viewBox=\"0 0 24 24\"\n",
              "       width=\"24px\">\n",
              "    <path d=\"M0 0h24v24H0V0z\" fill=\"none\"/>\n",
              "    <path d=\"M18.56 5.44l.94 2.06.94-2.06 2.06-.94-2.06-.94-.94-2.06-.94 2.06-2.06.94zm-11 1L8.5 8.5l.94-2.06 2.06-.94-2.06-.94L8.5 2.5l-.94 2.06-2.06.94zm10 10l.94 2.06.94-2.06 2.06-.94-2.06-.94-.94-2.06-.94 2.06-2.06.94z\"/><path d=\"M17.41 7.96l-1.37-1.37c-.4-.4-.92-.59-1.43-.59-.52 0-1.04.2-1.43.59L10.3 9.45l-7.72 7.72c-.78.78-.78 2.05 0 2.83L4 21.41c.39.39.9.59 1.41.59.51 0 1.02-.2 1.41-.59l7.78-7.78 2.81-2.81c.8-.78.8-2.07 0-2.86zM5.41 20L4 18.59l7.72-7.72 1.47 1.35L5.41 20z\"/>\n",
              "  </svg>\n",
              "      </button>\n",
              "      \n",
              "  <style>\n",
              "    .colab-df-container {\n",
              "      display:flex;\n",
              "      flex-wrap:wrap;\n",
              "      gap: 12px;\n",
              "    }\n",
              "\n",
              "    .colab-df-convert {\n",
              "      background-color: #E8F0FE;\n",
              "      border: none;\n",
              "      border-radius: 50%;\n",
              "      cursor: pointer;\n",
              "      display: none;\n",
              "      fill: #1967D2;\n",
              "      height: 32px;\n",
              "      padding: 0 0 0 0;\n",
              "      width: 32px;\n",
              "    }\n",
              "\n",
              "    .colab-df-convert:hover {\n",
              "      background-color: #E2EBFA;\n",
              "      box-shadow: 0px 1px 2px rgba(60, 64, 67, 0.3), 0px 1px 3px 1px rgba(60, 64, 67, 0.15);\n",
              "      fill: #174EA6;\n",
              "    }\n",
              "\n",
              "    [theme=dark] .colab-df-convert {\n",
              "      background-color: #3B4455;\n",
              "      fill: #D2E3FC;\n",
              "    }\n",
              "\n",
              "    [theme=dark] .colab-df-convert:hover {\n",
              "      background-color: #434B5C;\n",
              "      box-shadow: 0px 1px 3px 1px rgba(0, 0, 0, 0.15);\n",
              "      filter: drop-shadow(0px 1px 2px rgba(0, 0, 0, 0.3));\n",
              "      fill: #FFFFFF;\n",
              "    }\n",
              "  </style>\n",
              "\n",
              "      <script>\n",
              "        const buttonEl =\n",
              "          document.querySelector('#df-dafd9310-4f90-4fff-992c-944766febc14 button.colab-df-convert');\n",
              "        buttonEl.style.display =\n",
              "          google.colab.kernel.accessAllowed ? 'block' : 'none';\n",
              "\n",
              "        async function convertToInteractive(key) {\n",
              "          const element = document.querySelector('#df-dafd9310-4f90-4fff-992c-944766febc14');\n",
              "          const dataTable =\n",
              "            await google.colab.kernel.invokeFunction('convertToInteractive',\n",
              "                                                     [key], {});\n",
              "          if (!dataTable) return;\n",
              "\n",
              "          const docLinkHtml = 'Like what you see? Visit the ' +\n",
              "            '<a target=\"_blank\" href=https://colab.research.google.com/notebooks/data_table.ipynb>data table notebook</a>'\n",
              "            + ' to learn more about interactive tables.';\n",
              "          element.innerHTML = '';\n",
              "          dataTable['output_type'] = 'display_data';\n",
              "          await google.colab.output.renderOutput(dataTable, element);\n",
              "          const docLink = document.createElement('div');\n",
              "          docLink.innerHTML = docLinkHtml;\n",
              "          element.appendChild(docLink);\n",
              "        }\n",
              "      </script>\n",
              "    </div>\n",
              "  </div>\n",
              "  "
            ]
          },
          "metadata": {},
          "execution_count": 19
        }
      ]
    },
    {
      "cell_type": "code",
      "source": [
        "print(df.info())"
      ],
      "metadata": {
        "colab": {
          "base_uri": "https://localhost:8080/"
        },
        "id": "93TXGiAt8P8e",
        "outputId": "fc0e216a-4364-473d-e3cd-445a6188029b"
      },
      "execution_count": null,
      "outputs": [
        {
          "output_type": "stream",
          "name": "stdout",
          "text": [
            "<class 'pandas.core.frame.DataFrame'>\n",
            "RangeIndex: 21 entries, 0 to 20\n",
            "Data columns (total 5 columns):\n",
            " #   Column            Non-Null Count  Dtype  \n",
            "---  ------            --------------  -----  \n",
            " 0   s.no              21 non-null     int64  \n",
            " 1   client_name       21 non-null     object \n",
            " 2   city              21 non-null     object \n",
            " 3   product_purchase  21 non-null     object \n",
            " 4   cost              19 non-null     float64\n",
            "dtypes: float64(1), int64(1), object(3)\n",
            "memory usage: 968.0+ bytes\n",
            "None\n"
          ]
        }
      ]
    },
    {
      "cell_type": "code",
      "source": [
        "df.describe()"
      ],
      "metadata": {
        "colab": {
          "base_uri": "https://localhost:8080/",
          "height": 300
        },
        "id": "-m28T8AH7d2N",
        "outputId": "5c38e751-2363-4007-8eb9-2d3974ad172f"
      },
      "execution_count": null,
      "outputs": [
        {
          "output_type": "execute_result",
          "data": {
            "text/plain": [
              "            s.no          cost\n",
              "count  21.000000     19.000000\n",
              "mean   11.000000  16844.684211\n",
              "std     6.204837  22199.194385\n",
              "min     1.000000    999.000000\n",
              "25%     6.000000   2000.000000\n",
              "50%    11.000000   5000.000000\n",
              "75%    16.000000  25000.000000\n",
              "max    21.000000  70000.000000"
            ],
            "text/html": [
              "\n",
              "  <div id=\"df-8ef03534-ed10-4493-8f21-cf5965d53886\">\n",
              "    <div class=\"colab-df-container\">\n",
              "      <div>\n",
              "<style scoped>\n",
              "    .dataframe tbody tr th:only-of-type {\n",
              "        vertical-align: middle;\n",
              "    }\n",
              "\n",
              "    .dataframe tbody tr th {\n",
              "        vertical-align: top;\n",
              "    }\n",
              "\n",
              "    .dataframe thead th {\n",
              "        text-align: right;\n",
              "    }\n",
              "</style>\n",
              "<table border=\"1\" class=\"dataframe\">\n",
              "  <thead>\n",
              "    <tr style=\"text-align: right;\">\n",
              "      <th></th>\n",
              "      <th>s.no</th>\n",
              "      <th>cost</th>\n",
              "    </tr>\n",
              "  </thead>\n",
              "  <tbody>\n",
              "    <tr>\n",
              "      <th>count</th>\n",
              "      <td>21.000000</td>\n",
              "      <td>19.000000</td>\n",
              "    </tr>\n",
              "    <tr>\n",
              "      <th>mean</th>\n",
              "      <td>11.000000</td>\n",
              "      <td>16844.684211</td>\n",
              "    </tr>\n",
              "    <tr>\n",
              "      <th>std</th>\n",
              "      <td>6.204837</td>\n",
              "      <td>22199.194385</td>\n",
              "    </tr>\n",
              "    <tr>\n",
              "      <th>min</th>\n",
              "      <td>1.000000</td>\n",
              "      <td>999.000000</td>\n",
              "    </tr>\n",
              "    <tr>\n",
              "      <th>25%</th>\n",
              "      <td>6.000000</td>\n",
              "      <td>2000.000000</td>\n",
              "    </tr>\n",
              "    <tr>\n",
              "      <th>50%</th>\n",
              "      <td>11.000000</td>\n",
              "      <td>5000.000000</td>\n",
              "    </tr>\n",
              "    <tr>\n",
              "      <th>75%</th>\n",
              "      <td>16.000000</td>\n",
              "      <td>25000.000000</td>\n",
              "    </tr>\n",
              "    <tr>\n",
              "      <th>max</th>\n",
              "      <td>21.000000</td>\n",
              "      <td>70000.000000</td>\n",
              "    </tr>\n",
              "  </tbody>\n",
              "</table>\n",
              "</div>\n",
              "      <button class=\"colab-df-convert\" onclick=\"convertToInteractive('df-8ef03534-ed10-4493-8f21-cf5965d53886')\"\n",
              "              title=\"Convert this dataframe to an interactive table.\"\n",
              "              style=\"display:none;\">\n",
              "        \n",
              "  <svg xmlns=\"http://www.w3.org/2000/svg\" height=\"24px\"viewBox=\"0 0 24 24\"\n",
              "       width=\"24px\">\n",
              "    <path d=\"M0 0h24v24H0V0z\" fill=\"none\"/>\n",
              "    <path d=\"M18.56 5.44l.94 2.06.94-2.06 2.06-.94-2.06-.94-.94-2.06-.94 2.06-2.06.94zm-11 1L8.5 8.5l.94-2.06 2.06-.94-2.06-.94L8.5 2.5l-.94 2.06-2.06.94zm10 10l.94 2.06.94-2.06 2.06-.94-2.06-.94-.94-2.06-.94 2.06-2.06.94z\"/><path d=\"M17.41 7.96l-1.37-1.37c-.4-.4-.92-.59-1.43-.59-.52 0-1.04.2-1.43.59L10.3 9.45l-7.72 7.72c-.78.78-.78 2.05 0 2.83L4 21.41c.39.39.9.59 1.41.59.51 0 1.02-.2 1.41-.59l7.78-7.78 2.81-2.81c.8-.78.8-2.07 0-2.86zM5.41 20L4 18.59l7.72-7.72 1.47 1.35L5.41 20z\"/>\n",
              "  </svg>\n",
              "      </button>\n",
              "      \n",
              "  <style>\n",
              "    .colab-df-container {\n",
              "      display:flex;\n",
              "      flex-wrap:wrap;\n",
              "      gap: 12px;\n",
              "    }\n",
              "\n",
              "    .colab-df-convert {\n",
              "      background-color: #E8F0FE;\n",
              "      border: none;\n",
              "      border-radius: 50%;\n",
              "      cursor: pointer;\n",
              "      display: none;\n",
              "      fill: #1967D2;\n",
              "      height: 32px;\n",
              "      padding: 0 0 0 0;\n",
              "      width: 32px;\n",
              "    }\n",
              "\n",
              "    .colab-df-convert:hover {\n",
              "      background-color: #E2EBFA;\n",
              "      box-shadow: 0px 1px 2px rgba(60, 64, 67, 0.3), 0px 1px 3px 1px rgba(60, 64, 67, 0.15);\n",
              "      fill: #174EA6;\n",
              "    }\n",
              "\n",
              "    [theme=dark] .colab-df-convert {\n",
              "      background-color: #3B4455;\n",
              "      fill: #D2E3FC;\n",
              "    }\n",
              "\n",
              "    [theme=dark] .colab-df-convert:hover {\n",
              "      background-color: #434B5C;\n",
              "      box-shadow: 0px 1px 3px 1px rgba(0, 0, 0, 0.15);\n",
              "      filter: drop-shadow(0px 1px 2px rgba(0, 0, 0, 0.3));\n",
              "      fill: #FFFFFF;\n",
              "    }\n",
              "  </style>\n",
              "\n",
              "      <script>\n",
              "        const buttonEl =\n",
              "          document.querySelector('#df-8ef03534-ed10-4493-8f21-cf5965d53886 button.colab-df-convert');\n",
              "        buttonEl.style.display =\n",
              "          google.colab.kernel.accessAllowed ? 'block' : 'none';\n",
              "\n",
              "        async function convertToInteractive(key) {\n",
              "          const element = document.querySelector('#df-8ef03534-ed10-4493-8f21-cf5965d53886');\n",
              "          const dataTable =\n",
              "            await google.colab.kernel.invokeFunction('convertToInteractive',\n",
              "                                                     [key], {});\n",
              "          if (!dataTable) return;\n",
              "\n",
              "          const docLinkHtml = 'Like what you see? Visit the ' +\n",
              "            '<a target=\"_blank\" href=https://colab.research.google.com/notebooks/data_table.ipynb>data table notebook</a>'\n",
              "            + ' to learn more about interactive tables.';\n",
              "          element.innerHTML = '';\n",
              "          dataTable['output_type'] = 'display_data';\n",
              "          await google.colab.output.renderOutput(dataTable, element);\n",
              "          const docLink = document.createElement('div');\n",
              "          docLink.innerHTML = docLinkHtml;\n",
              "          element.appendChild(docLink);\n",
              "        }\n",
              "      </script>\n",
              "    </div>\n",
              "  </div>\n",
              "  "
            ]
          },
          "metadata": {},
          "execution_count": 9
        }
      ]
    },
    {
      "cell_type": "code",
      "source": [
        "df.head(5)"
      ],
      "metadata": {
        "colab": {
          "base_uri": "https://localhost:8080/",
          "height": 206
        },
        "id": "ik3r2mCd8hs5",
        "outputId": "311131c4-fd0e-49a1-baea-d5b01334452b"
      },
      "execution_count": null,
      "outputs": [
        {
          "output_type": "execute_result",
          "data": {
            "text/plain": [
              "   s.no client_name           city product_purchase     cost\n",
              "0     1      anjani      hyderabad            mi_TV  30000.0\n",
              "1     2     neelima       saidabad           mobile  10000.0\n",
              "2     3      jyothi  ibrahimpatnam            watch   1000.0\n",
              "3     4    ashritha       warangal  washing_machine   6000.0\n",
              "4     5     yogitha       bn_reddy      DSLR_camera  50000.0"
            ],
            "text/html": [
              "\n",
              "  <div id=\"df-ac66086e-247a-4de6-95df-6ac0bfc58b3e\">\n",
              "    <div class=\"colab-df-container\">\n",
              "      <div>\n",
              "<style scoped>\n",
              "    .dataframe tbody tr th:only-of-type {\n",
              "        vertical-align: middle;\n",
              "    }\n",
              "\n",
              "    .dataframe tbody tr th {\n",
              "        vertical-align: top;\n",
              "    }\n",
              "\n",
              "    .dataframe thead th {\n",
              "        text-align: right;\n",
              "    }\n",
              "</style>\n",
              "<table border=\"1\" class=\"dataframe\">\n",
              "  <thead>\n",
              "    <tr style=\"text-align: right;\">\n",
              "      <th></th>\n",
              "      <th>s.no</th>\n",
              "      <th>client_name</th>\n",
              "      <th>city</th>\n",
              "      <th>product_purchase</th>\n",
              "      <th>cost</th>\n",
              "    </tr>\n",
              "  </thead>\n",
              "  <tbody>\n",
              "    <tr>\n",
              "      <th>0</th>\n",
              "      <td>1</td>\n",
              "      <td>anjani</td>\n",
              "      <td>hyderabad</td>\n",
              "      <td>mi_TV</td>\n",
              "      <td>30000.0</td>\n",
              "    </tr>\n",
              "    <tr>\n",
              "      <th>1</th>\n",
              "      <td>2</td>\n",
              "      <td>neelima</td>\n",
              "      <td>saidabad</td>\n",
              "      <td>mobile</td>\n",
              "      <td>10000.0</td>\n",
              "    </tr>\n",
              "    <tr>\n",
              "      <th>2</th>\n",
              "      <td>3</td>\n",
              "      <td>jyothi</td>\n",
              "      <td>ibrahimpatnam</td>\n",
              "      <td>watch</td>\n",
              "      <td>1000.0</td>\n",
              "    </tr>\n",
              "    <tr>\n",
              "      <th>3</th>\n",
              "      <td>4</td>\n",
              "      <td>ashritha</td>\n",
              "      <td>warangal</td>\n",
              "      <td>washing_machine</td>\n",
              "      <td>6000.0</td>\n",
              "    </tr>\n",
              "    <tr>\n",
              "      <th>4</th>\n",
              "      <td>5</td>\n",
              "      <td>yogitha</td>\n",
              "      <td>bn_reddy</td>\n",
              "      <td>DSLR_camera</td>\n",
              "      <td>50000.0</td>\n",
              "    </tr>\n",
              "  </tbody>\n",
              "</table>\n",
              "</div>\n",
              "      <button class=\"colab-df-convert\" onclick=\"convertToInteractive('df-ac66086e-247a-4de6-95df-6ac0bfc58b3e')\"\n",
              "              title=\"Convert this dataframe to an interactive table.\"\n",
              "              style=\"display:none;\">\n",
              "        \n",
              "  <svg xmlns=\"http://www.w3.org/2000/svg\" height=\"24px\"viewBox=\"0 0 24 24\"\n",
              "       width=\"24px\">\n",
              "    <path d=\"M0 0h24v24H0V0z\" fill=\"none\"/>\n",
              "    <path d=\"M18.56 5.44l.94 2.06.94-2.06 2.06-.94-2.06-.94-.94-2.06-.94 2.06-2.06.94zm-11 1L8.5 8.5l.94-2.06 2.06-.94-2.06-.94L8.5 2.5l-.94 2.06-2.06.94zm10 10l.94 2.06.94-2.06 2.06-.94-2.06-.94-.94-2.06-.94 2.06-2.06.94z\"/><path d=\"M17.41 7.96l-1.37-1.37c-.4-.4-.92-.59-1.43-.59-.52 0-1.04.2-1.43.59L10.3 9.45l-7.72 7.72c-.78.78-.78 2.05 0 2.83L4 21.41c.39.39.9.59 1.41.59.51 0 1.02-.2 1.41-.59l7.78-7.78 2.81-2.81c.8-.78.8-2.07 0-2.86zM5.41 20L4 18.59l7.72-7.72 1.47 1.35L5.41 20z\"/>\n",
              "  </svg>\n",
              "      </button>\n",
              "      \n",
              "  <style>\n",
              "    .colab-df-container {\n",
              "      display:flex;\n",
              "      flex-wrap:wrap;\n",
              "      gap: 12px;\n",
              "    }\n",
              "\n",
              "    .colab-df-convert {\n",
              "      background-color: #E8F0FE;\n",
              "      border: none;\n",
              "      border-radius: 50%;\n",
              "      cursor: pointer;\n",
              "      display: none;\n",
              "      fill: #1967D2;\n",
              "      height: 32px;\n",
              "      padding: 0 0 0 0;\n",
              "      width: 32px;\n",
              "    }\n",
              "\n",
              "    .colab-df-convert:hover {\n",
              "      background-color: #E2EBFA;\n",
              "      box-shadow: 0px 1px 2px rgba(60, 64, 67, 0.3), 0px 1px 3px 1px rgba(60, 64, 67, 0.15);\n",
              "      fill: #174EA6;\n",
              "    }\n",
              "\n",
              "    [theme=dark] .colab-df-convert {\n",
              "      background-color: #3B4455;\n",
              "      fill: #D2E3FC;\n",
              "    }\n",
              "\n",
              "    [theme=dark] .colab-df-convert:hover {\n",
              "      background-color: #434B5C;\n",
              "      box-shadow: 0px 1px 3px 1px rgba(0, 0, 0, 0.15);\n",
              "      filter: drop-shadow(0px 1px 2px rgba(0, 0, 0, 0.3));\n",
              "      fill: #FFFFFF;\n",
              "    }\n",
              "  </style>\n",
              "\n",
              "      <script>\n",
              "        const buttonEl =\n",
              "          document.querySelector('#df-ac66086e-247a-4de6-95df-6ac0bfc58b3e button.colab-df-convert');\n",
              "        buttonEl.style.display =\n",
              "          google.colab.kernel.accessAllowed ? 'block' : 'none';\n",
              "\n",
              "        async function convertToInteractive(key) {\n",
              "          const element = document.querySelector('#df-ac66086e-247a-4de6-95df-6ac0bfc58b3e');\n",
              "          const dataTable =\n",
              "            await google.colab.kernel.invokeFunction('convertToInteractive',\n",
              "                                                     [key], {});\n",
              "          if (!dataTable) return;\n",
              "\n",
              "          const docLinkHtml = 'Like what you see? Visit the ' +\n",
              "            '<a target=\"_blank\" href=https://colab.research.google.com/notebooks/data_table.ipynb>data table notebook</a>'\n",
              "            + ' to learn more about interactive tables.';\n",
              "          element.innerHTML = '';\n",
              "          dataTable['output_type'] = 'display_data';\n",
              "          await google.colab.output.renderOutput(dataTable, element);\n",
              "          const docLink = document.createElement('div');\n",
              "          docLink.innerHTML = docLinkHtml;\n",
              "          element.appendChild(docLink);\n",
              "        }\n",
              "      </script>\n",
              "    </div>\n",
              "  </div>\n",
              "  "
            ]
          },
          "metadata": {},
          "execution_count": 10
        }
      ]
    },
    {
      "cell_type": "code",
      "source": [
        "df.tail(5)"
      ],
      "metadata": {
        "colab": {
          "base_uri": "https://localhost:8080/",
          "height": 206
        },
        "id": "1AUdGcZa8oBU",
        "outputId": "db96e742-c256-4339-fd9b-cd5e24f3147d"
      },
      "execution_count": null,
      "outputs": [
        {
          "output_type": "execute_result",
          "data": {
            "text/plain": [
              "    s.no client_name         city product_purchase     cost\n",
              "16    17       navya  hayathnagar       headphones    999.0\n",
              "17    18        mona  hayathnagar           walker   1050.0\n",
              "18    19       padhu     bn_reddy     home_theator  70000.0\n",
              "19    20       kavya    hyderabad         speakers   4000.0\n",
              "20    21      anjani    hyderabad            mi_TV  30000.0"
            ],
            "text/html": [
              "\n",
              "  <div id=\"df-8dc75fa5-e9dd-47a0-afb6-6152d06a6466\">\n",
              "    <div class=\"colab-df-container\">\n",
              "      <div>\n",
              "<style scoped>\n",
              "    .dataframe tbody tr th:only-of-type {\n",
              "        vertical-align: middle;\n",
              "    }\n",
              "\n",
              "    .dataframe tbody tr th {\n",
              "        vertical-align: top;\n",
              "    }\n",
              "\n",
              "    .dataframe thead th {\n",
              "        text-align: right;\n",
              "    }\n",
              "</style>\n",
              "<table border=\"1\" class=\"dataframe\">\n",
              "  <thead>\n",
              "    <tr style=\"text-align: right;\">\n",
              "      <th></th>\n",
              "      <th>s.no</th>\n",
              "      <th>client_name</th>\n",
              "      <th>city</th>\n",
              "      <th>product_purchase</th>\n",
              "      <th>cost</th>\n",
              "    </tr>\n",
              "  </thead>\n",
              "  <tbody>\n",
              "    <tr>\n",
              "      <th>16</th>\n",
              "      <td>17</td>\n",
              "      <td>navya</td>\n",
              "      <td>hayathnagar</td>\n",
              "      <td>headphones</td>\n",
              "      <td>999.0</td>\n",
              "    </tr>\n",
              "    <tr>\n",
              "      <th>17</th>\n",
              "      <td>18</td>\n",
              "      <td>mona</td>\n",
              "      <td>hayathnagar</td>\n",
              "      <td>walker</td>\n",
              "      <td>1050.0</td>\n",
              "    </tr>\n",
              "    <tr>\n",
              "      <th>18</th>\n",
              "      <td>19</td>\n",
              "      <td>padhu</td>\n",
              "      <td>bn_reddy</td>\n",
              "      <td>home_theator</td>\n",
              "      <td>70000.0</td>\n",
              "    </tr>\n",
              "    <tr>\n",
              "      <th>19</th>\n",
              "      <td>20</td>\n",
              "      <td>kavya</td>\n",
              "      <td>hyderabad</td>\n",
              "      <td>speakers</td>\n",
              "      <td>4000.0</td>\n",
              "    </tr>\n",
              "    <tr>\n",
              "      <th>20</th>\n",
              "      <td>21</td>\n",
              "      <td>anjani</td>\n",
              "      <td>hyderabad</td>\n",
              "      <td>mi_TV</td>\n",
              "      <td>30000.0</td>\n",
              "    </tr>\n",
              "  </tbody>\n",
              "</table>\n",
              "</div>\n",
              "      <button class=\"colab-df-convert\" onclick=\"convertToInteractive('df-8dc75fa5-e9dd-47a0-afb6-6152d06a6466')\"\n",
              "              title=\"Convert this dataframe to an interactive table.\"\n",
              "              style=\"display:none;\">\n",
              "        \n",
              "  <svg xmlns=\"http://www.w3.org/2000/svg\" height=\"24px\"viewBox=\"0 0 24 24\"\n",
              "       width=\"24px\">\n",
              "    <path d=\"M0 0h24v24H0V0z\" fill=\"none\"/>\n",
              "    <path d=\"M18.56 5.44l.94 2.06.94-2.06 2.06-.94-2.06-.94-.94-2.06-.94 2.06-2.06.94zm-11 1L8.5 8.5l.94-2.06 2.06-.94-2.06-.94L8.5 2.5l-.94 2.06-2.06.94zm10 10l.94 2.06.94-2.06 2.06-.94-2.06-.94-.94-2.06-.94 2.06-2.06.94z\"/><path d=\"M17.41 7.96l-1.37-1.37c-.4-.4-.92-.59-1.43-.59-.52 0-1.04.2-1.43.59L10.3 9.45l-7.72 7.72c-.78.78-.78 2.05 0 2.83L4 21.41c.39.39.9.59 1.41.59.51 0 1.02-.2 1.41-.59l7.78-7.78 2.81-2.81c.8-.78.8-2.07 0-2.86zM5.41 20L4 18.59l7.72-7.72 1.47 1.35L5.41 20z\"/>\n",
              "  </svg>\n",
              "      </button>\n",
              "      \n",
              "  <style>\n",
              "    .colab-df-container {\n",
              "      display:flex;\n",
              "      flex-wrap:wrap;\n",
              "      gap: 12px;\n",
              "    }\n",
              "\n",
              "    .colab-df-convert {\n",
              "      background-color: #E8F0FE;\n",
              "      border: none;\n",
              "      border-radius: 50%;\n",
              "      cursor: pointer;\n",
              "      display: none;\n",
              "      fill: #1967D2;\n",
              "      height: 32px;\n",
              "      padding: 0 0 0 0;\n",
              "      width: 32px;\n",
              "    }\n",
              "\n",
              "    .colab-df-convert:hover {\n",
              "      background-color: #E2EBFA;\n",
              "      box-shadow: 0px 1px 2px rgba(60, 64, 67, 0.3), 0px 1px 3px 1px rgba(60, 64, 67, 0.15);\n",
              "      fill: #174EA6;\n",
              "    }\n",
              "\n",
              "    [theme=dark] .colab-df-convert {\n",
              "      background-color: #3B4455;\n",
              "      fill: #D2E3FC;\n",
              "    }\n",
              "\n",
              "    [theme=dark] .colab-df-convert:hover {\n",
              "      background-color: #434B5C;\n",
              "      box-shadow: 0px 1px 3px 1px rgba(0, 0, 0, 0.15);\n",
              "      filter: drop-shadow(0px 1px 2px rgba(0, 0, 0, 0.3));\n",
              "      fill: #FFFFFF;\n",
              "    }\n",
              "  </style>\n",
              "\n",
              "      <script>\n",
              "        const buttonEl =\n",
              "          document.querySelector('#df-8dc75fa5-e9dd-47a0-afb6-6152d06a6466 button.colab-df-convert');\n",
              "        buttonEl.style.display =\n",
              "          google.colab.kernel.accessAllowed ? 'block' : 'none';\n",
              "\n",
              "        async function convertToInteractive(key) {\n",
              "          const element = document.querySelector('#df-8dc75fa5-e9dd-47a0-afb6-6152d06a6466');\n",
              "          const dataTable =\n",
              "            await google.colab.kernel.invokeFunction('convertToInteractive',\n",
              "                                                     [key], {});\n",
              "          if (!dataTable) return;\n",
              "\n",
              "          const docLinkHtml = 'Like what you see? Visit the ' +\n",
              "            '<a target=\"_blank\" href=https://colab.research.google.com/notebooks/data_table.ipynb>data table notebook</a>'\n",
              "            + ' to learn more about interactive tables.';\n",
              "          element.innerHTML = '';\n",
              "          dataTable['output_type'] = 'display_data';\n",
              "          await google.colab.output.renderOutput(dataTable, element);\n",
              "          const docLink = document.createElement('div');\n",
              "          docLink.innerHTML = docLinkHtml;\n",
              "          element.appendChild(docLink);\n",
              "        }\n",
              "      </script>\n",
              "    </div>\n",
              "  </div>\n",
              "  "
            ]
          },
          "metadata": {},
          "execution_count": 11
        }
      ]
    },
    {
      "cell_type": "code",
      "source": [
        "print('shape\\t',df.shape)\n",
        "shape=df.shape\n",
        "print('rows\\t',shape[0])\n",
        "print('columns\\t',shape[1])"
      ],
      "metadata": {
        "colab": {
          "base_uri": "https://localhost:8080/"
        },
        "id": "VwJFUBwl7hId",
        "outputId": "0ae0c2f8-af4d-47b2-8844-847229e3ddf0"
      },
      "execution_count": null,
      "outputs": [
        {
          "output_type": "stream",
          "name": "stdout",
          "text": [
            "shape\t (21, 5)\n",
            "rows\t 21\n",
            "columns\t 5\n"
          ]
        }
      ]
    },
    {
      "cell_type": "code",
      "source": [
        "print(df.count())"
      ],
      "metadata": {
        "colab": {
          "base_uri": "https://localhost:8080/"
        },
        "id": "Yvjpzlli8tYa",
        "outputId": "36ceff3c-dbfe-4816-a913-bf986d5186a1"
      },
      "execution_count": null,
      "outputs": [
        {
          "output_type": "stream",
          "name": "stdout",
          "text": [
            "s.no                42\n",
            "client_name         42\n",
            "product_purchase    42\n",
            "cost                38\n",
            "dtype: int64\n"
          ]
        }
      ]
    },
    {
      "cell_type": "code",
      "source": [
        "print(df.dtypes)"
      ],
      "metadata": {
        "colab": {
          "base_uri": "https://localhost:8080/"
        },
        "id": "RmJJI_8dDCsk",
        "outputId": "705c35d8-ee3b-4212-f9e7-b3bc1c57e890"
      },
      "execution_count": null,
      "outputs": [
        {
          "output_type": "stream",
          "name": "stdout",
          "text": [
            "s.no                  int64\n",
            "client_name          object\n",
            "product_purchase     object\n",
            "cost                float64\n",
            "dtype: object\n"
          ]
        }
      ]
    },
    {
      "cell_type": "code",
      "source": [
        "print(df.columns)"
      ],
      "metadata": {
        "colab": {
          "base_uri": "https://localhost:8080/"
        },
        "id": "ReQpnA8D8w7e",
        "outputId": "150434fb-6203-4c7b-fc10-73899864cbc2"
      },
      "execution_count": null,
      "outputs": [
        {
          "output_type": "stream",
          "name": "stdout",
          "text": [
            "Index(['s.no', 'client_name', 'city', 'product_purchase', 'cost'], dtype='object')\n"
          ]
        }
      ]
    },
    {
      "cell_type": "code",
      "source": [
        "print(df.value_counts())"
      ],
      "metadata": {
        "colab": {
          "base_uri": "https://localhost:8080/"
        },
        "id": "_SWSkd579O_O",
        "outputId": "5a276173-99bd-4ff9-d871-2fc2bc69541c"
      },
      "execution_count": null,
      "outputs": [
        {
          "output_type": "stream",
          "name": "stdout",
          "text": [
            "s.no  client_name  city           product_purchase  cost   \n",
            "1     anjani       hyderabad      mi_TV             30000.0    1\n",
            "12    deepa        warangal       hair_dryer        2000.0     1\n",
            "20    kavya        hyderabad      speakers          4000.0     1\n",
            "19    padhu        bn_reddy       home_theator      70000.0    1\n",
            "18    mona         hayathnagar    walker            1050.0     1\n",
            "17    navya        hayathnagar    headphones        999.0      1\n",
            "15    anusha       ibrahimpatnam  firestick         2000.0     1\n",
            "14    aarthi       hyderabad      ipad              65000.0    1\n",
            "13    laya         siddipet       juicer            3500.0     1\n",
            "11    rachana      nizambad       mobile            15000.0    1\n",
            "2     neelima      saidabad       mobile            10000.0    1\n",
            "10    mohseen      hyderabad      alexa             5000.0     1\n",
            "9     cheryl       secunderabad   computer          20000.0    1\n",
            "7     nikhila      karimnagar     harddisk          3000.0     1\n",
            "6     prathyusha   mangalpalli    mixter            1500.0     1\n",
            "5     yogitha      bn_reddy       DSLR_camera       50000.0    1\n",
            "4     ashritha     warangal       washing_machine   6000.0     1\n",
            "3     jyothi       ibrahimpatnam  watch             1000.0     1\n",
            "21    anjani       hyderabad      mi_TV             30000.0    1\n",
            "dtype: int64\n"
          ]
        }
      ]
    },
    {
      "cell_type": "code",
      "source": [
        "df.cost==3000\n",
        "\n",
        "print(df.city.sort_values(ascending=True))"
      ],
      "metadata": {
        "colab": {
          "base_uri": "https://localhost:8080/"
        },
        "id": "NgeqCkqd9TYP",
        "outputId": "857d4561-c067-450e-f94c-2107c9ffb7c0"
      },
      "execution_count": null,
      "outputs": [
        {
          "output_type": "stream",
          "name": "stdout",
          "text": [
            "18         bn_reddy\n",
            "4          bn_reddy\n",
            "17      hayathnagar\n",
            "16      hayathnagar\n",
            "0         hyderabad\n",
            "13        hyderabad\n",
            "19        hyderabad\n",
            "9         hyderabad\n",
            "20        hyderabad\n",
            "7         hyderabad\n",
            "14    ibrahimpatnam\n",
            "2     ibrahimpatnam\n",
            "6        karimnagar\n",
            "5       mangalpalli\n",
            "10         nizambad\n",
            "15      pochampalli\n",
            "1          saidabad\n",
            "8      secunderabad\n",
            "12         siddipet\n",
            "11         warangal\n",
            "3          warangal\n",
            "Name: city, dtype: object\n"
          ]
        }
      ]
    },
    {
      "cell_type": "code",
      "source": [
        "print(df.city.min(axis=0))"
      ],
      "metadata": {
        "colab": {
          "base_uri": "https://localhost:8080/"
        },
        "id": "DGt7ocim9sJf",
        "outputId": "25cfbbad-24eb-49e3-d6b8-220badef1ac8"
      },
      "execution_count": null,
      "outputs": [
        {
          "output_type": "stream",
          "name": "stdout",
          "text": [
            "bn_reddy\n"
          ]
        }
      ]
    },
    {
      "cell_type": "code",
      "source": [
        "print(df.city.max(axis=0))"
      ],
      "metadata": {
        "colab": {
          "base_uri": "https://localhost:8080/"
        },
        "id": "OnHJTxWx-nEz",
        "outputId": "1a84f186-83e8-4f1f-a667-66c105dc799d"
      },
      "execution_count": null,
      "outputs": [
        {
          "output_type": "stream",
          "name": "stdout",
          "text": [
            "warangal\n"
          ]
        }
      ]
    },
    {
      "cell_type": "code",
      "source": [
        "print(df.cost.mean())"
      ],
      "metadata": {
        "colab": {
          "base_uri": "https://localhost:8080/"
        },
        "id": "7B1Z-zVP-rGG",
        "outputId": "f3bfb1f1-f179-4611-8b91-40da17a47756"
      },
      "execution_count": null,
      "outputs": [
        {
          "output_type": "stream",
          "name": "stdout",
          "text": [
            "16844.684210526317\n"
          ]
        }
      ]
    },
    {
      "cell_type": "code",
      "source": [
        "print(df.cost.median())"
      ],
      "metadata": {
        "colab": {
          "base_uri": "https://localhost:8080/"
        },
        "id": "qtd9jdiN-uMh",
        "outputId": "2e5d93c1-886f-4cf6-ac9e-49a6aabac86b"
      },
      "execution_count": null,
      "outputs": [
        {
          "output_type": "stream",
          "name": "stdout",
          "text": [
            "5000.0\n"
          ]
        }
      ]
    },
    {
      "cell_type": "code",
      "source": [
        "print(df.cost.cumsum())"
      ],
      "metadata": {
        "colab": {
          "base_uri": "https://localhost:8080/"
        },
        "id": "bs4LuEFX_1Z5",
        "outputId": "aeb443c7-bfb4-4e85-ae95-01edf0273c59"
      },
      "execution_count": null,
      "outputs": [
        {
          "output_type": "stream",
          "name": "stdout",
          "text": [
            "0      30000.0\n",
            "1      40000.0\n",
            "2      41000.0\n",
            "3      47000.0\n",
            "4      97000.0\n",
            "5      98500.0\n",
            "6     101500.0\n",
            "7          NaN\n",
            "8     121500.0\n",
            "9     126500.0\n",
            "10    141500.0\n",
            "11    143500.0\n",
            "12    147000.0\n",
            "13    212000.0\n",
            "14    214000.0\n",
            "15         NaN\n",
            "16    214999.0\n",
            "17    216049.0\n",
            "18    286049.0\n",
            "19    290049.0\n",
            "20    320049.0\n",
            "Name: cost, dtype: float64\n"
          ]
        }
      ]
    },
    {
      "cell_type": "code",
      "source": [
        "print(df.cost.cummax())"
      ],
      "metadata": {
        "colab": {
          "base_uri": "https://localhost:8080/"
        },
        "id": "JsjZlpx5_3RV",
        "outputId": "71407ecf-1646-4865-dcb5-2ddb4c67a2cc"
      },
      "execution_count": null,
      "outputs": [
        {
          "output_type": "stream",
          "name": "stdout",
          "text": [
            "0     30000.0\n",
            "1     30000.0\n",
            "2     30000.0\n",
            "3     30000.0\n",
            "4     50000.0\n",
            "5     50000.0\n",
            "6     50000.0\n",
            "7         NaN\n",
            "8     50000.0\n",
            "9     50000.0\n",
            "10    50000.0\n",
            "11    50000.0\n",
            "12    50000.0\n",
            "13    65000.0\n",
            "14    65000.0\n",
            "15        NaN\n",
            "16    65000.0\n",
            "17    65000.0\n",
            "18    70000.0\n",
            "19    70000.0\n",
            "20    70000.0\n",
            "Name: cost, dtype: float64\n"
          ]
        }
      ]
    },
    {
      "cell_type": "code",
      "source": [
        "print(df.cost.cummin())"
      ],
      "metadata": {
        "colab": {
          "base_uri": "https://localhost:8080/"
        },
        "id": "wz7j8kp7_6gn",
        "outputId": "adea1393-0c43-4171-f29b-debdb73cb8c5"
      },
      "execution_count": null,
      "outputs": [
        {
          "output_type": "stream",
          "name": "stdout",
          "text": [
            "0     30000.0\n",
            "1     10000.0\n",
            "2      1000.0\n",
            "3      1000.0\n",
            "4      1000.0\n",
            "5      1000.0\n",
            "6      1000.0\n",
            "7         NaN\n",
            "8      1000.0\n",
            "9      1000.0\n",
            "10     1000.0\n",
            "11     1000.0\n",
            "12     1000.0\n",
            "13     1000.0\n",
            "14     1000.0\n",
            "15        NaN\n",
            "16      999.0\n",
            "17      999.0\n",
            "18      999.0\n",
            "19      999.0\n",
            "20      999.0\n",
            "Name: cost, dtype: float64\n"
          ]
        }
      ]
    },
    {
      "cell_type": "code",
      "source": [
        "print(df.cost.sum())"
      ],
      "metadata": {
        "colab": {
          "base_uri": "https://localhost:8080/"
        },
        "id": "CX6IC8z5_8Se",
        "outputId": "8654bf8b-d507-4220-c708-1ec610a08eb2"
      },
      "execution_count": null,
      "outputs": [
        {
          "output_type": "stream",
          "name": "stdout",
          "text": [
            "320049.0\n"
          ]
        }
      ]
    },
    {
      "cell_type": "code",
      "source": [
        "print(df.cost.cumprod())"
      ],
      "metadata": {
        "colab": {
          "base_uri": "https://localhost:8080/"
        },
        "id": "82QGVJVS__wD",
        "outputId": "4e7e71d9-d483-4f9a-d0d9-f486e00301f6"
      },
      "execution_count": null,
      "outputs": [
        {
          "output_type": "stream",
          "name": "stdout",
          "text": [
            "0     3.000000e+04\n",
            "1     3.000000e+08\n",
            "2     3.000000e+11\n",
            "3     1.800000e+15\n",
            "4     9.000000e+19\n",
            "5     1.350000e+23\n",
            "6     4.050000e+26\n",
            "7              NaN\n",
            "8     8.100000e+30\n",
            "9     4.050000e+34\n",
            "10    6.075000e+38\n",
            "11    1.215000e+42\n",
            "12    4.252500e+45\n",
            "13    2.764125e+50\n",
            "14    5.528250e+53\n",
            "15             NaN\n",
            "16    5.522722e+56\n",
            "17    5.798858e+59\n",
            "18    4.059200e+64\n",
            "19    1.623680e+68\n",
            "20    4.871041e+72\n",
            "Name: cost, dtype: float64\n"
          ]
        }
      ]
    },
    {
      "cell_type": "code",
      "source": [
        "df1=df.copy()\n",
        "print(df1)"
      ],
      "metadata": {
        "colab": {
          "base_uri": "https://localhost:8080/"
        },
        "id": "5dtTGKbO9eb8",
        "outputId": "bb8ff71e-96c3-42f3-c109-f8ee6239de79"
      },
      "execution_count": null,
      "outputs": [
        {
          "output_type": "stream",
          "name": "stdout",
          "text": [
            "    s.no client_name           city product_purchase     cost\n",
            "0      1      anjani      hyderabad            mi_TV  30000.0\n",
            "1      2     neelima       saidabad           mobile  10000.0\n",
            "2      3      jyothi  ibrahimpatnam            watch   1000.0\n",
            "3      4    ashritha       warangal  washing_machine   6000.0\n",
            "4      5     yogitha       bn_reddy      DSLR_camera  50000.0\n",
            "5      6  prathyusha    mangalpalli           mixter   1500.0\n",
            "6      7     nikhila     karimnagar         harddisk   3000.0\n",
            "7      8        asif      hyderabad           trimer      NaN\n",
            "8      9      cheryl   secunderabad         computer  20000.0\n",
            "9     10     mohseen      hyderabad            alexa   5000.0\n",
            "10    11     rachana       nizambad           mobile  15000.0\n",
            "11    12       deepa       warangal       hair_dryer   2000.0\n",
            "12    13        laya       siddipet           juicer   3500.0\n",
            "13    14      aarthi      hyderabad             ipad  65000.0\n",
            "14    15      anusha  ibrahimpatnam        firestick   2000.0\n",
            "15    16    niharika    pochampalli            mouse      NaN\n",
            "16    17       navya    hayathnagar       headphones    999.0\n",
            "17    18        mona    hayathnagar           walker   1050.0\n",
            "18    19       padhu       bn_reddy     home_theator  70000.0\n",
            "19    20       kavya      hyderabad         speakers   4000.0\n",
            "20    21      anjani      hyderabad            mi_TV  30000.0\n"
          ]
        }
      ]
    },
    {
      "cell_type": "code",
      "source": [
        "df1.rank()"
      ],
      "metadata": {
        "colab": {
          "base_uri": "https://localhost:8080/",
          "height": 708
        },
        "id": "b-YikZZQAS9N",
        "outputId": "69fd2219-d5cd-4d03-f620-429b4220a715"
      },
      "execution_count": null,
      "outputs": [
        {
          "output_type": "execute_result",
          "data": {
            "text/plain": [
              "    s.no  client_name  city  product_purchase  cost\n",
              "0    1.0          2.5   7.5              11.5  15.5\n",
              "1    2.0         15.0  17.0              14.5  12.0\n",
              "2    3.0          9.0  11.5              21.0   2.0\n",
              "3    4.0          5.0  20.5              20.0  11.0\n",
              "4    5.0         21.0   1.5               1.0  17.0\n",
              "5    6.0         19.0  14.0              13.0   4.0\n",
              "6    7.0         17.0  13.0               6.0   7.0\n",
              "7    8.0          6.0   7.5              18.0   NaN\n",
              "8    9.0          7.0  18.0               3.0  14.0\n",
              "9   10.0         12.0   7.5               2.0  10.0\n",
              "10  11.0         20.0  15.0              14.5  13.0\n",
              "11  12.0          8.0  20.5               5.0   5.5\n",
              "12  13.0         11.0  19.0              10.0   8.0\n",
              "13  14.0          1.0   7.5               9.0  18.0\n",
              "14  15.0          4.0  11.5               4.0   5.5\n",
              "15  16.0         16.0  16.0              16.0   NaN\n",
              "16  17.0         14.0   3.5               7.0   1.0\n",
              "17  18.0         13.0   3.5              19.0   3.0\n",
              "18  19.0         18.0   1.5               8.0  19.0\n",
              "19  20.0         10.0   7.5              17.0   9.0\n",
              "20  21.0          2.5   7.5              11.5  15.5"
            ],
            "text/html": [
              "\n",
              "  <div id=\"df-aef3495b-772a-4ee8-a50c-01920c354bcf\">\n",
              "    <div class=\"colab-df-container\">\n",
              "      <div>\n",
              "<style scoped>\n",
              "    .dataframe tbody tr th:only-of-type {\n",
              "        vertical-align: middle;\n",
              "    }\n",
              "\n",
              "    .dataframe tbody tr th {\n",
              "        vertical-align: top;\n",
              "    }\n",
              "\n",
              "    .dataframe thead th {\n",
              "        text-align: right;\n",
              "    }\n",
              "</style>\n",
              "<table border=\"1\" class=\"dataframe\">\n",
              "  <thead>\n",
              "    <tr style=\"text-align: right;\">\n",
              "      <th></th>\n",
              "      <th>s.no</th>\n",
              "      <th>client_name</th>\n",
              "      <th>city</th>\n",
              "      <th>product_purchase</th>\n",
              "      <th>cost</th>\n",
              "    </tr>\n",
              "  </thead>\n",
              "  <tbody>\n",
              "    <tr>\n",
              "      <th>0</th>\n",
              "      <td>1.0</td>\n",
              "      <td>2.5</td>\n",
              "      <td>7.5</td>\n",
              "      <td>11.5</td>\n",
              "      <td>15.5</td>\n",
              "    </tr>\n",
              "    <tr>\n",
              "      <th>1</th>\n",
              "      <td>2.0</td>\n",
              "      <td>15.0</td>\n",
              "      <td>17.0</td>\n",
              "      <td>14.5</td>\n",
              "      <td>12.0</td>\n",
              "    </tr>\n",
              "    <tr>\n",
              "      <th>2</th>\n",
              "      <td>3.0</td>\n",
              "      <td>9.0</td>\n",
              "      <td>11.5</td>\n",
              "      <td>21.0</td>\n",
              "      <td>2.0</td>\n",
              "    </tr>\n",
              "    <tr>\n",
              "      <th>3</th>\n",
              "      <td>4.0</td>\n",
              "      <td>5.0</td>\n",
              "      <td>20.5</td>\n",
              "      <td>20.0</td>\n",
              "      <td>11.0</td>\n",
              "    </tr>\n",
              "    <tr>\n",
              "      <th>4</th>\n",
              "      <td>5.0</td>\n",
              "      <td>21.0</td>\n",
              "      <td>1.5</td>\n",
              "      <td>1.0</td>\n",
              "      <td>17.0</td>\n",
              "    </tr>\n",
              "    <tr>\n",
              "      <th>5</th>\n",
              "      <td>6.0</td>\n",
              "      <td>19.0</td>\n",
              "      <td>14.0</td>\n",
              "      <td>13.0</td>\n",
              "      <td>4.0</td>\n",
              "    </tr>\n",
              "    <tr>\n",
              "      <th>6</th>\n",
              "      <td>7.0</td>\n",
              "      <td>17.0</td>\n",
              "      <td>13.0</td>\n",
              "      <td>6.0</td>\n",
              "      <td>7.0</td>\n",
              "    </tr>\n",
              "    <tr>\n",
              "      <th>7</th>\n",
              "      <td>8.0</td>\n",
              "      <td>6.0</td>\n",
              "      <td>7.5</td>\n",
              "      <td>18.0</td>\n",
              "      <td>NaN</td>\n",
              "    </tr>\n",
              "    <tr>\n",
              "      <th>8</th>\n",
              "      <td>9.0</td>\n",
              "      <td>7.0</td>\n",
              "      <td>18.0</td>\n",
              "      <td>3.0</td>\n",
              "      <td>14.0</td>\n",
              "    </tr>\n",
              "    <tr>\n",
              "      <th>9</th>\n",
              "      <td>10.0</td>\n",
              "      <td>12.0</td>\n",
              "      <td>7.5</td>\n",
              "      <td>2.0</td>\n",
              "      <td>10.0</td>\n",
              "    </tr>\n",
              "    <tr>\n",
              "      <th>10</th>\n",
              "      <td>11.0</td>\n",
              "      <td>20.0</td>\n",
              "      <td>15.0</td>\n",
              "      <td>14.5</td>\n",
              "      <td>13.0</td>\n",
              "    </tr>\n",
              "    <tr>\n",
              "      <th>11</th>\n",
              "      <td>12.0</td>\n",
              "      <td>8.0</td>\n",
              "      <td>20.5</td>\n",
              "      <td>5.0</td>\n",
              "      <td>5.5</td>\n",
              "    </tr>\n",
              "    <tr>\n",
              "      <th>12</th>\n",
              "      <td>13.0</td>\n",
              "      <td>11.0</td>\n",
              "      <td>19.0</td>\n",
              "      <td>10.0</td>\n",
              "      <td>8.0</td>\n",
              "    </tr>\n",
              "    <tr>\n",
              "      <th>13</th>\n",
              "      <td>14.0</td>\n",
              "      <td>1.0</td>\n",
              "      <td>7.5</td>\n",
              "      <td>9.0</td>\n",
              "      <td>18.0</td>\n",
              "    </tr>\n",
              "    <tr>\n",
              "      <th>14</th>\n",
              "      <td>15.0</td>\n",
              "      <td>4.0</td>\n",
              "      <td>11.5</td>\n",
              "      <td>4.0</td>\n",
              "      <td>5.5</td>\n",
              "    </tr>\n",
              "    <tr>\n",
              "      <th>15</th>\n",
              "      <td>16.0</td>\n",
              "      <td>16.0</td>\n",
              "      <td>16.0</td>\n",
              "      <td>16.0</td>\n",
              "      <td>NaN</td>\n",
              "    </tr>\n",
              "    <tr>\n",
              "      <th>16</th>\n",
              "      <td>17.0</td>\n",
              "      <td>14.0</td>\n",
              "      <td>3.5</td>\n",
              "      <td>7.0</td>\n",
              "      <td>1.0</td>\n",
              "    </tr>\n",
              "    <tr>\n",
              "      <th>17</th>\n",
              "      <td>18.0</td>\n",
              "      <td>13.0</td>\n",
              "      <td>3.5</td>\n",
              "      <td>19.0</td>\n",
              "      <td>3.0</td>\n",
              "    </tr>\n",
              "    <tr>\n",
              "      <th>18</th>\n",
              "      <td>19.0</td>\n",
              "      <td>18.0</td>\n",
              "      <td>1.5</td>\n",
              "      <td>8.0</td>\n",
              "      <td>19.0</td>\n",
              "    </tr>\n",
              "    <tr>\n",
              "      <th>19</th>\n",
              "      <td>20.0</td>\n",
              "      <td>10.0</td>\n",
              "      <td>7.5</td>\n",
              "      <td>17.0</td>\n",
              "      <td>9.0</td>\n",
              "    </tr>\n",
              "    <tr>\n",
              "      <th>20</th>\n",
              "      <td>21.0</td>\n",
              "      <td>2.5</td>\n",
              "      <td>7.5</td>\n",
              "      <td>11.5</td>\n",
              "      <td>15.5</td>\n",
              "    </tr>\n",
              "  </tbody>\n",
              "</table>\n",
              "</div>\n",
              "      <button class=\"colab-df-convert\" onclick=\"convertToInteractive('df-aef3495b-772a-4ee8-a50c-01920c354bcf')\"\n",
              "              title=\"Convert this dataframe to an interactive table.\"\n",
              "              style=\"display:none;\">\n",
              "        \n",
              "  <svg xmlns=\"http://www.w3.org/2000/svg\" height=\"24px\"viewBox=\"0 0 24 24\"\n",
              "       width=\"24px\">\n",
              "    <path d=\"M0 0h24v24H0V0z\" fill=\"none\"/>\n",
              "    <path d=\"M18.56 5.44l.94 2.06.94-2.06 2.06-.94-2.06-.94-.94-2.06-.94 2.06-2.06.94zm-11 1L8.5 8.5l.94-2.06 2.06-.94-2.06-.94L8.5 2.5l-.94 2.06-2.06.94zm10 10l.94 2.06.94-2.06 2.06-.94-2.06-.94-.94-2.06-.94 2.06-2.06.94z\"/><path d=\"M17.41 7.96l-1.37-1.37c-.4-.4-.92-.59-1.43-.59-.52 0-1.04.2-1.43.59L10.3 9.45l-7.72 7.72c-.78.78-.78 2.05 0 2.83L4 21.41c.39.39.9.59 1.41.59.51 0 1.02-.2 1.41-.59l7.78-7.78 2.81-2.81c.8-.78.8-2.07 0-2.86zM5.41 20L4 18.59l7.72-7.72 1.47 1.35L5.41 20z\"/>\n",
              "  </svg>\n",
              "      </button>\n",
              "      \n",
              "  <style>\n",
              "    .colab-df-container {\n",
              "      display:flex;\n",
              "      flex-wrap:wrap;\n",
              "      gap: 12px;\n",
              "    }\n",
              "\n",
              "    .colab-df-convert {\n",
              "      background-color: #E8F0FE;\n",
              "      border: none;\n",
              "      border-radius: 50%;\n",
              "      cursor: pointer;\n",
              "      display: none;\n",
              "      fill: #1967D2;\n",
              "      height: 32px;\n",
              "      padding: 0 0 0 0;\n",
              "      width: 32px;\n",
              "    }\n",
              "\n",
              "    .colab-df-convert:hover {\n",
              "      background-color: #E2EBFA;\n",
              "      box-shadow: 0px 1px 2px rgba(60, 64, 67, 0.3), 0px 1px 3px 1px rgba(60, 64, 67, 0.15);\n",
              "      fill: #174EA6;\n",
              "    }\n",
              "\n",
              "    [theme=dark] .colab-df-convert {\n",
              "      background-color: #3B4455;\n",
              "      fill: #D2E3FC;\n",
              "    }\n",
              "\n",
              "    [theme=dark] .colab-df-convert:hover {\n",
              "      background-color: #434B5C;\n",
              "      box-shadow: 0px 1px 3px 1px rgba(0, 0, 0, 0.15);\n",
              "      filter: drop-shadow(0px 1px 2px rgba(0, 0, 0, 0.3));\n",
              "      fill: #FFFFFF;\n",
              "    }\n",
              "  </style>\n",
              "\n",
              "      <script>\n",
              "        const buttonEl =\n",
              "          document.querySelector('#df-aef3495b-772a-4ee8-a50c-01920c354bcf button.colab-df-convert');\n",
              "        buttonEl.style.display =\n",
              "          google.colab.kernel.accessAllowed ? 'block' : 'none';\n",
              "\n",
              "        async function convertToInteractive(key) {\n",
              "          const element = document.querySelector('#df-aef3495b-772a-4ee8-a50c-01920c354bcf');\n",
              "          const dataTable =\n",
              "            await google.colab.kernel.invokeFunction('convertToInteractive',\n",
              "                                                     [key], {});\n",
              "          if (!dataTable) return;\n",
              "\n",
              "          const docLinkHtml = 'Like what you see? Visit the ' +\n",
              "            '<a target=\"_blank\" href=https://colab.research.google.com/notebooks/data_table.ipynb>data table notebook</a>'\n",
              "            + ' to learn more about interactive tables.';\n",
              "          element.innerHTML = '';\n",
              "          dataTable['output_type'] = 'display_data';\n",
              "          await google.colab.output.renderOutput(dataTable, element);\n",
              "          const docLink = document.createElement('div');\n",
              "          docLink.innerHTML = docLinkHtml;\n",
              "          element.appendChild(docLink);\n",
              "        }\n",
              "      </script>\n",
              "    </div>\n",
              "  </div>\n",
              "  "
            ]
          },
          "metadata": {},
          "execution_count": 36
        }
      ]
    },
    {
      "cell_type": "code",
      "source": [
        "df.rename(columns = {'city':'place'}, inplace = True)\n",
        "print(df)"
      ],
      "metadata": {
        "colab": {
          "base_uri": "https://localhost:8080/"
        },
        "id": "GxbcNBgvAPE2",
        "outputId": "1eb8d847-09df-40e8-a1ff-52faf2d60a04"
      },
      "execution_count": null,
      "outputs": [
        {
          "output_type": "stream",
          "name": "stdout",
          "text": [
            "    s.no client_name          place product_purchase     cost\n",
            "0      1      anjani      hyderabad            mi_TV  30000.0\n",
            "1      2     neelima       saidabad           mobile  10000.0\n",
            "2      3      jyothi  ibrahimpatnam            watch   1000.0\n",
            "3      4    ashritha       warangal  washing_machine   6000.0\n",
            "4      5     yogitha       bn_reddy      DSLR_camera  50000.0\n",
            "5      6  prathyusha    mangalpalli           mixter   1500.0\n",
            "6      7     nikhila     karimnagar         harddisk   3000.0\n",
            "7      8        asif      hyderabad           trimer      NaN\n",
            "8      9      cheryl   secunderabad         computer  20000.0\n",
            "9     10     mohseen      hyderabad            alexa   5000.0\n",
            "10    11     rachana       nizambad           mobile  15000.0\n",
            "11    12       deepa       warangal       hair_dryer   2000.0\n",
            "12    13        laya       siddipet           juicer   3500.0\n",
            "13    14      aarthi      hyderabad             ipad  65000.0\n",
            "14    15      anusha  ibrahimpatnam        firestick   2000.0\n",
            "15    16    niharika    pochampalli            mouse      NaN\n",
            "16    17       navya    hayathnagar       headphones    999.0\n",
            "17    18        mona    hayathnagar           walker   1050.0\n",
            "18    19       padhu       bn_reddy     home_theator  70000.0\n",
            "19    20       kavya      hyderabad         speakers   4000.0\n",
            "20    21      anjani      hyderabad            mi_TV  30000.0\n"
          ]
        }
      ]
    },
    {
      "cell_type": "code",
      "source": [
        "df=df.append(df,ignore_index=True)\n",
        "print(df)"
      ],
      "metadata": {
        "colab": {
          "base_uri": "https://localhost:8080/"
        },
        "id": "HW-ixG8oAYzf",
        "outputId": "75b99bb1-22c3-43c3-d327-ec713e1540f1"
      },
      "execution_count": null,
      "outputs": [
        {
          "output_type": "stream",
          "name": "stdout",
          "text": [
            "    s.no client_name          place product_purchase     cost\n",
            "0      1      anjani      hyderabad            mi_TV  30000.0\n",
            "1      2     neelima       saidabad           mobile  10000.0\n",
            "2      3      jyothi  ibrahimpatnam            watch   1000.0\n",
            "3      4    ashritha       warangal  washing_machine   6000.0\n",
            "4      5     yogitha       bn_reddy      DSLR_camera  50000.0\n",
            "5      6  prathyusha    mangalpalli           mixter   1500.0\n",
            "6      7     nikhila     karimnagar         harddisk   3000.0\n",
            "7      8        asif      hyderabad           trimer      NaN\n",
            "8      9      cheryl   secunderabad         computer  20000.0\n",
            "9     10     mohseen      hyderabad            alexa   5000.0\n",
            "10    11     rachana       nizambad           mobile  15000.0\n",
            "11    12       deepa       warangal       hair_dryer   2000.0\n",
            "12    13        laya       siddipet           juicer   3500.0\n",
            "13    14      aarthi      hyderabad             ipad  65000.0\n",
            "14    15      anusha  ibrahimpatnam        firestick   2000.0\n",
            "15    16    niharika    pochampalli            mouse      NaN\n",
            "16    17       navya    hayathnagar       headphones    999.0\n",
            "17    18        mona    hayathnagar           walker   1050.0\n",
            "18    19       padhu       bn_reddy     home_theator  70000.0\n",
            "19    20       kavya      hyderabad         speakers   4000.0\n",
            "20    21      anjani      hyderabad            mi_TV  30000.0\n",
            "21     1      anjani      hyderabad            mi_TV  30000.0\n",
            "22     2     neelima       saidabad           mobile  10000.0\n",
            "23     3      jyothi  ibrahimpatnam            watch   1000.0\n",
            "24     4    ashritha       warangal  washing_machine   6000.0\n",
            "25     5     yogitha       bn_reddy      DSLR_camera  50000.0\n",
            "26     6  prathyusha    mangalpalli           mixter   1500.0\n",
            "27     7     nikhila     karimnagar         harddisk   3000.0\n",
            "28     8        asif      hyderabad           trimer      NaN\n",
            "29     9      cheryl   secunderabad         computer  20000.0\n",
            "30    10     mohseen      hyderabad            alexa   5000.0\n",
            "31    11     rachana       nizambad           mobile  15000.0\n",
            "32    12       deepa       warangal       hair_dryer   2000.0\n",
            "33    13        laya       siddipet           juicer   3500.0\n",
            "34    14      aarthi      hyderabad             ipad  65000.0\n",
            "35    15      anusha  ibrahimpatnam        firestick   2000.0\n",
            "36    16    niharika    pochampalli            mouse      NaN\n",
            "37    17       navya    hayathnagar       headphones    999.0\n",
            "38    18        mona    hayathnagar           walker   1050.0\n",
            "39    19       padhu       bn_reddy     home_theator  70000.0\n",
            "40    20       kavya      hyderabad         speakers   4000.0\n",
            "41    21      anjani      hyderabad            mi_TV  30000.0\n"
          ]
        }
      ]
    },
    {
      "cell_type": "code",
      "source": [
        "df.drop(['place'], axis=1, inplace=True)"
      ],
      "metadata": {
        "id": "8JDwGjXUAcTe"
      },
      "execution_count": null,
      "outputs": []
    },
    {
      "cell_type": "code",
      "source": [
        "print(df)"
      ],
      "metadata": {
        "colab": {
          "base_uri": "https://localhost:8080/"
        },
        "id": "KIChwIybAueq",
        "outputId": "f51443bf-19cb-4f5e-e706-37bd7c244d4b"
      },
      "execution_count": null,
      "outputs": [
        {
          "output_type": "stream",
          "name": "stdout",
          "text": [
            "    s.no client_name product_purchase     cost\n",
            "0      1      anjani            mi_TV  30000.0\n",
            "1      2     neelima           mobile  10000.0\n",
            "2      3      jyothi            watch   1000.0\n",
            "3      4    ashritha  washing_machine   6000.0\n",
            "4      5     yogitha      DSLR_camera  50000.0\n",
            "5      6  prathyusha           mixter   1500.0\n",
            "6      7     nikhila         harddisk   3000.0\n",
            "7      8        asif           trimer      NaN\n",
            "8      9      cheryl         computer  20000.0\n",
            "9     10     mohseen            alexa   5000.0\n",
            "10    11     rachana           mobile  15000.0\n",
            "11    12       deepa       hair_dryer   2000.0\n",
            "12    13        laya           juicer   3500.0\n",
            "13    14      aarthi             ipad  65000.0\n",
            "14    15      anusha        firestick   2000.0\n",
            "15    16    niharika            mouse      NaN\n",
            "16    17       navya       headphones    999.0\n",
            "17    18        mona           walker   1050.0\n",
            "18    19       padhu     home_theator  70000.0\n",
            "19    20       kavya         speakers   4000.0\n",
            "20    21      anjani            mi_TV  30000.0\n",
            "21     1      anjani            mi_TV  30000.0\n",
            "22     2     neelima           mobile  10000.0\n",
            "23     3      jyothi            watch   1000.0\n",
            "24     4    ashritha  washing_machine   6000.0\n",
            "25     5     yogitha      DSLR_camera  50000.0\n",
            "26     6  prathyusha           mixter   1500.0\n",
            "27     7     nikhila         harddisk   3000.0\n",
            "28     8        asif           trimer      NaN\n",
            "29     9      cheryl         computer  20000.0\n",
            "30    10     mohseen            alexa   5000.0\n",
            "31    11     rachana           mobile  15000.0\n",
            "32    12       deepa       hair_dryer   2000.0\n",
            "33    13        laya           juicer   3500.0\n",
            "34    14      aarthi             ipad  65000.0\n",
            "35    15      anusha        firestick   2000.0\n",
            "36    16    niharika            mouse      NaN\n",
            "37    17       navya       headphones    999.0\n",
            "38    18        mona           walker   1050.0\n",
            "39    19       padhu     home_theator  70000.0\n",
            "40    20       kavya         speakers   4000.0\n",
            "41    21      anjani            mi_TV  30000.0\n"
          ]
        }
      ]
    },
    {
      "cell_type": "code",
      "source": [
        "df.drop([5, 15])"
      ],
      "metadata": {
        "colab": {
          "base_uri": "https://localhost:8080/",
          "height": 1000
        },
        "id": "I2XzcGAUAjnu",
        "outputId": "9f782035-063a-407a-84d7-19dd6895aa10"
      },
      "execution_count": null,
      "outputs": [
        {
          "output_type": "execute_result",
          "data": {
            "text/plain": [
              "    s.no client_name product_purchase     cost\n",
              "0      1      anjani            mi_TV  30000.0\n",
              "1      2     neelima           mobile  10000.0\n",
              "2      3      jyothi            watch   1000.0\n",
              "3      4    ashritha  washing_machine   6000.0\n",
              "4      5     yogitha      DSLR_camera  50000.0\n",
              "6      7     nikhila         harddisk   3000.0\n",
              "7      8        asif           trimer      NaN\n",
              "8      9      cheryl         computer  20000.0\n",
              "9     10     mohseen            alexa   5000.0\n",
              "10    11     rachana           mobile  15000.0\n",
              "11    12       deepa       hair_dryer   2000.0\n",
              "12    13        laya           juicer   3500.0\n",
              "13    14      aarthi             ipad  65000.0\n",
              "14    15      anusha        firestick   2000.0\n",
              "16    17       navya       headphones    999.0\n",
              "17    18        mona           walker   1050.0\n",
              "18    19       padhu     home_theator  70000.0\n",
              "19    20       kavya         speakers   4000.0\n",
              "20    21      anjani            mi_TV  30000.0\n",
              "21     1      anjani            mi_TV  30000.0\n",
              "22     2     neelima           mobile  10000.0\n",
              "23     3      jyothi            watch   1000.0\n",
              "24     4    ashritha  washing_machine   6000.0\n",
              "25     5     yogitha      DSLR_camera  50000.0\n",
              "26     6  prathyusha           mixter   1500.0\n",
              "27     7     nikhila         harddisk   3000.0\n",
              "28     8        asif           trimer      NaN\n",
              "29     9      cheryl         computer  20000.0\n",
              "30    10     mohseen            alexa   5000.0\n",
              "31    11     rachana           mobile  15000.0\n",
              "32    12       deepa       hair_dryer   2000.0\n",
              "33    13        laya           juicer   3500.0\n",
              "34    14      aarthi             ipad  65000.0\n",
              "35    15      anusha        firestick   2000.0\n",
              "36    16    niharika            mouse      NaN\n",
              "37    17       navya       headphones    999.0\n",
              "38    18        mona           walker   1050.0\n",
              "39    19       padhu     home_theator  70000.0\n",
              "40    20       kavya         speakers   4000.0\n",
              "41    21      anjani            mi_TV  30000.0"
            ],
            "text/html": [
              "\n",
              "  <div id=\"df-51959d56-f2c8-435d-aa62-b57fc98c4704\">\n",
              "    <div class=\"colab-df-container\">\n",
              "      <div>\n",
              "<style scoped>\n",
              "    .dataframe tbody tr th:only-of-type {\n",
              "        vertical-align: middle;\n",
              "    }\n",
              "\n",
              "    .dataframe tbody tr th {\n",
              "        vertical-align: top;\n",
              "    }\n",
              "\n",
              "    .dataframe thead th {\n",
              "        text-align: right;\n",
              "    }\n",
              "</style>\n",
              "<table border=\"1\" class=\"dataframe\">\n",
              "  <thead>\n",
              "    <tr style=\"text-align: right;\">\n",
              "      <th></th>\n",
              "      <th>s.no</th>\n",
              "      <th>client_name</th>\n",
              "      <th>product_purchase</th>\n",
              "      <th>cost</th>\n",
              "    </tr>\n",
              "  </thead>\n",
              "  <tbody>\n",
              "    <tr>\n",
              "      <th>0</th>\n",
              "      <td>1</td>\n",
              "      <td>anjani</td>\n",
              "      <td>mi_TV</td>\n",
              "      <td>30000.0</td>\n",
              "    </tr>\n",
              "    <tr>\n",
              "      <th>1</th>\n",
              "      <td>2</td>\n",
              "      <td>neelima</td>\n",
              "      <td>mobile</td>\n",
              "      <td>10000.0</td>\n",
              "    </tr>\n",
              "    <tr>\n",
              "      <th>2</th>\n",
              "      <td>3</td>\n",
              "      <td>jyothi</td>\n",
              "      <td>watch</td>\n",
              "      <td>1000.0</td>\n",
              "    </tr>\n",
              "    <tr>\n",
              "      <th>3</th>\n",
              "      <td>4</td>\n",
              "      <td>ashritha</td>\n",
              "      <td>washing_machine</td>\n",
              "      <td>6000.0</td>\n",
              "    </tr>\n",
              "    <tr>\n",
              "      <th>4</th>\n",
              "      <td>5</td>\n",
              "      <td>yogitha</td>\n",
              "      <td>DSLR_camera</td>\n",
              "      <td>50000.0</td>\n",
              "    </tr>\n",
              "    <tr>\n",
              "      <th>6</th>\n",
              "      <td>7</td>\n",
              "      <td>nikhila</td>\n",
              "      <td>harddisk</td>\n",
              "      <td>3000.0</td>\n",
              "    </tr>\n",
              "    <tr>\n",
              "      <th>7</th>\n",
              "      <td>8</td>\n",
              "      <td>asif</td>\n",
              "      <td>trimer</td>\n",
              "      <td>NaN</td>\n",
              "    </tr>\n",
              "    <tr>\n",
              "      <th>8</th>\n",
              "      <td>9</td>\n",
              "      <td>cheryl</td>\n",
              "      <td>computer</td>\n",
              "      <td>20000.0</td>\n",
              "    </tr>\n",
              "    <tr>\n",
              "      <th>9</th>\n",
              "      <td>10</td>\n",
              "      <td>mohseen</td>\n",
              "      <td>alexa</td>\n",
              "      <td>5000.0</td>\n",
              "    </tr>\n",
              "    <tr>\n",
              "      <th>10</th>\n",
              "      <td>11</td>\n",
              "      <td>rachana</td>\n",
              "      <td>mobile</td>\n",
              "      <td>15000.0</td>\n",
              "    </tr>\n",
              "    <tr>\n",
              "      <th>11</th>\n",
              "      <td>12</td>\n",
              "      <td>deepa</td>\n",
              "      <td>hair_dryer</td>\n",
              "      <td>2000.0</td>\n",
              "    </tr>\n",
              "    <tr>\n",
              "      <th>12</th>\n",
              "      <td>13</td>\n",
              "      <td>laya</td>\n",
              "      <td>juicer</td>\n",
              "      <td>3500.0</td>\n",
              "    </tr>\n",
              "    <tr>\n",
              "      <th>13</th>\n",
              "      <td>14</td>\n",
              "      <td>aarthi</td>\n",
              "      <td>ipad</td>\n",
              "      <td>65000.0</td>\n",
              "    </tr>\n",
              "    <tr>\n",
              "      <th>14</th>\n",
              "      <td>15</td>\n",
              "      <td>anusha</td>\n",
              "      <td>firestick</td>\n",
              "      <td>2000.0</td>\n",
              "    </tr>\n",
              "    <tr>\n",
              "      <th>16</th>\n",
              "      <td>17</td>\n",
              "      <td>navya</td>\n",
              "      <td>headphones</td>\n",
              "      <td>999.0</td>\n",
              "    </tr>\n",
              "    <tr>\n",
              "      <th>17</th>\n",
              "      <td>18</td>\n",
              "      <td>mona</td>\n",
              "      <td>walker</td>\n",
              "      <td>1050.0</td>\n",
              "    </tr>\n",
              "    <tr>\n",
              "      <th>18</th>\n",
              "      <td>19</td>\n",
              "      <td>padhu</td>\n",
              "      <td>home_theator</td>\n",
              "      <td>70000.0</td>\n",
              "    </tr>\n",
              "    <tr>\n",
              "      <th>19</th>\n",
              "      <td>20</td>\n",
              "      <td>kavya</td>\n",
              "      <td>speakers</td>\n",
              "      <td>4000.0</td>\n",
              "    </tr>\n",
              "    <tr>\n",
              "      <th>20</th>\n",
              "      <td>21</td>\n",
              "      <td>anjani</td>\n",
              "      <td>mi_TV</td>\n",
              "      <td>30000.0</td>\n",
              "    </tr>\n",
              "    <tr>\n",
              "      <th>21</th>\n",
              "      <td>1</td>\n",
              "      <td>anjani</td>\n",
              "      <td>mi_TV</td>\n",
              "      <td>30000.0</td>\n",
              "    </tr>\n",
              "    <tr>\n",
              "      <th>22</th>\n",
              "      <td>2</td>\n",
              "      <td>neelima</td>\n",
              "      <td>mobile</td>\n",
              "      <td>10000.0</td>\n",
              "    </tr>\n",
              "    <tr>\n",
              "      <th>23</th>\n",
              "      <td>3</td>\n",
              "      <td>jyothi</td>\n",
              "      <td>watch</td>\n",
              "      <td>1000.0</td>\n",
              "    </tr>\n",
              "    <tr>\n",
              "      <th>24</th>\n",
              "      <td>4</td>\n",
              "      <td>ashritha</td>\n",
              "      <td>washing_machine</td>\n",
              "      <td>6000.0</td>\n",
              "    </tr>\n",
              "    <tr>\n",
              "      <th>25</th>\n",
              "      <td>5</td>\n",
              "      <td>yogitha</td>\n",
              "      <td>DSLR_camera</td>\n",
              "      <td>50000.0</td>\n",
              "    </tr>\n",
              "    <tr>\n",
              "      <th>26</th>\n",
              "      <td>6</td>\n",
              "      <td>prathyusha</td>\n",
              "      <td>mixter</td>\n",
              "      <td>1500.0</td>\n",
              "    </tr>\n",
              "    <tr>\n",
              "      <th>27</th>\n",
              "      <td>7</td>\n",
              "      <td>nikhila</td>\n",
              "      <td>harddisk</td>\n",
              "      <td>3000.0</td>\n",
              "    </tr>\n",
              "    <tr>\n",
              "      <th>28</th>\n",
              "      <td>8</td>\n",
              "      <td>asif</td>\n",
              "      <td>trimer</td>\n",
              "      <td>NaN</td>\n",
              "    </tr>\n",
              "    <tr>\n",
              "      <th>29</th>\n",
              "      <td>9</td>\n",
              "      <td>cheryl</td>\n",
              "      <td>computer</td>\n",
              "      <td>20000.0</td>\n",
              "    </tr>\n",
              "    <tr>\n",
              "      <th>30</th>\n",
              "      <td>10</td>\n",
              "      <td>mohseen</td>\n",
              "      <td>alexa</td>\n",
              "      <td>5000.0</td>\n",
              "    </tr>\n",
              "    <tr>\n",
              "      <th>31</th>\n",
              "      <td>11</td>\n",
              "      <td>rachana</td>\n",
              "      <td>mobile</td>\n",
              "      <td>15000.0</td>\n",
              "    </tr>\n",
              "    <tr>\n",
              "      <th>32</th>\n",
              "      <td>12</td>\n",
              "      <td>deepa</td>\n",
              "      <td>hair_dryer</td>\n",
              "      <td>2000.0</td>\n",
              "    </tr>\n",
              "    <tr>\n",
              "      <th>33</th>\n",
              "      <td>13</td>\n",
              "      <td>laya</td>\n",
              "      <td>juicer</td>\n",
              "      <td>3500.0</td>\n",
              "    </tr>\n",
              "    <tr>\n",
              "      <th>34</th>\n",
              "      <td>14</td>\n",
              "      <td>aarthi</td>\n",
              "      <td>ipad</td>\n",
              "      <td>65000.0</td>\n",
              "    </tr>\n",
              "    <tr>\n",
              "      <th>35</th>\n",
              "      <td>15</td>\n",
              "      <td>anusha</td>\n",
              "      <td>firestick</td>\n",
              "      <td>2000.0</td>\n",
              "    </tr>\n",
              "    <tr>\n",
              "      <th>36</th>\n",
              "      <td>16</td>\n",
              "      <td>niharika</td>\n",
              "      <td>mouse</td>\n",
              "      <td>NaN</td>\n",
              "    </tr>\n",
              "    <tr>\n",
              "      <th>37</th>\n",
              "      <td>17</td>\n",
              "      <td>navya</td>\n",
              "      <td>headphones</td>\n",
              "      <td>999.0</td>\n",
              "    </tr>\n",
              "    <tr>\n",
              "      <th>38</th>\n",
              "      <td>18</td>\n",
              "      <td>mona</td>\n",
              "      <td>walker</td>\n",
              "      <td>1050.0</td>\n",
              "    </tr>\n",
              "    <tr>\n",
              "      <th>39</th>\n",
              "      <td>19</td>\n",
              "      <td>padhu</td>\n",
              "      <td>home_theator</td>\n",
              "      <td>70000.0</td>\n",
              "    </tr>\n",
              "    <tr>\n",
              "      <th>40</th>\n",
              "      <td>20</td>\n",
              "      <td>kavya</td>\n",
              "      <td>speakers</td>\n",
              "      <td>4000.0</td>\n",
              "    </tr>\n",
              "    <tr>\n",
              "      <th>41</th>\n",
              "      <td>21</td>\n",
              "      <td>anjani</td>\n",
              "      <td>mi_TV</td>\n",
              "      <td>30000.0</td>\n",
              "    </tr>\n",
              "  </tbody>\n",
              "</table>\n",
              "</div>\n",
              "      <button class=\"colab-df-convert\" onclick=\"convertToInteractive('df-51959d56-f2c8-435d-aa62-b57fc98c4704')\"\n",
              "              title=\"Convert this dataframe to an interactive table.\"\n",
              "              style=\"display:none;\">\n",
              "        \n",
              "  <svg xmlns=\"http://www.w3.org/2000/svg\" height=\"24px\"viewBox=\"0 0 24 24\"\n",
              "       width=\"24px\">\n",
              "    <path d=\"M0 0h24v24H0V0z\" fill=\"none\"/>\n",
              "    <path d=\"M18.56 5.44l.94 2.06.94-2.06 2.06-.94-2.06-.94-.94-2.06-.94 2.06-2.06.94zm-11 1L8.5 8.5l.94-2.06 2.06-.94-2.06-.94L8.5 2.5l-.94 2.06-2.06.94zm10 10l.94 2.06.94-2.06 2.06-.94-2.06-.94-.94-2.06-.94 2.06-2.06.94z\"/><path d=\"M17.41 7.96l-1.37-1.37c-.4-.4-.92-.59-1.43-.59-.52 0-1.04.2-1.43.59L10.3 9.45l-7.72 7.72c-.78.78-.78 2.05 0 2.83L4 21.41c.39.39.9.59 1.41.59.51 0 1.02-.2 1.41-.59l7.78-7.78 2.81-2.81c.8-.78.8-2.07 0-2.86zM5.41 20L4 18.59l7.72-7.72 1.47 1.35L5.41 20z\"/>\n",
              "  </svg>\n",
              "      </button>\n",
              "      \n",
              "  <style>\n",
              "    .colab-df-container {\n",
              "      display:flex;\n",
              "      flex-wrap:wrap;\n",
              "      gap: 12px;\n",
              "    }\n",
              "\n",
              "    .colab-df-convert {\n",
              "      background-color: #E8F0FE;\n",
              "      border: none;\n",
              "      border-radius: 50%;\n",
              "      cursor: pointer;\n",
              "      display: none;\n",
              "      fill: #1967D2;\n",
              "      height: 32px;\n",
              "      padding: 0 0 0 0;\n",
              "      width: 32px;\n",
              "    }\n",
              "\n",
              "    .colab-df-convert:hover {\n",
              "      background-color: #E2EBFA;\n",
              "      box-shadow: 0px 1px 2px rgba(60, 64, 67, 0.3), 0px 1px 3px 1px rgba(60, 64, 67, 0.15);\n",
              "      fill: #174EA6;\n",
              "    }\n",
              "\n",
              "    [theme=dark] .colab-df-convert {\n",
              "      background-color: #3B4455;\n",
              "      fill: #D2E3FC;\n",
              "    }\n",
              "\n",
              "    [theme=dark] .colab-df-convert:hover {\n",
              "      background-color: #434B5C;\n",
              "      box-shadow: 0px 1px 3px 1px rgba(0, 0, 0, 0.15);\n",
              "      filter: drop-shadow(0px 1px 2px rgba(0, 0, 0, 0.3));\n",
              "      fill: #FFFFFF;\n",
              "    }\n",
              "  </style>\n",
              "\n",
              "      <script>\n",
              "        const buttonEl =\n",
              "          document.querySelector('#df-51959d56-f2c8-435d-aa62-b57fc98c4704 button.colab-df-convert');\n",
              "        buttonEl.style.display =\n",
              "          google.colab.kernel.accessAllowed ? 'block' : 'none';\n",
              "\n",
              "        async function convertToInteractive(key) {\n",
              "          const element = document.querySelector('#df-51959d56-f2c8-435d-aa62-b57fc98c4704');\n",
              "          const dataTable =\n",
              "            await google.colab.kernel.invokeFunction('convertToInteractive',\n",
              "                                                     [key], {});\n",
              "          if (!dataTable) return;\n",
              "\n",
              "          const docLinkHtml = 'Like what you see? Visit the ' +\n",
              "            '<a target=\"_blank\" href=https://colab.research.google.com/notebooks/data_table.ipynb>data table notebook</a>'\n",
              "            + ' to learn more about interactive tables.';\n",
              "          element.innerHTML = '';\n",
              "          dataTable['output_type'] = 'display_data';\n",
              "          await google.colab.output.renderOutput(dataTable, element);\n",
              "          const docLink = document.createElement('div');\n",
              "          docLink.innerHTML = docLinkHtml;\n",
              "          element.appendChild(docLink);\n",
              "        }\n",
              "      </script>\n",
              "    </div>\n",
              "  </div>\n",
              "  "
            ]
          },
          "metadata": {},
          "execution_count": 43
        }
      ]
    },
    {
      "cell_type": "markdown",
      "source": [
        "**Lab 2-Numpy and Pandas**"
      ],
      "metadata": {
        "id": "W40gYHugW4Sv"
      }
    },
    {
      "cell_type": "code",
      "execution_count": null,
      "metadata": {
        "colab": {
          "base_uri": "https://localhost:8080/"
        },
        "id": "vQL_XVhl0ZxC",
        "outputId": "83ca0575-16b1-4dcd-f4d1-a800e606dd05"
      },
      "outputs": [
        {
          "output_type": "stream",
          "name": "stdout",
          "text": [
            "No of Dimensions:\t 2\n",
            "Size(in bytes):\t\t 8\n",
            "Dimensions:\t\t (2, 3)\n"
          ]
        },
        {
          "output_type": "execute_result",
          "data": {
            "text/plain": [
              "array([[1, 2, 3],\n",
              "       [4, 5, 6]])"
            ]
          },
          "metadata": {},
          "execution_count": 1
        }
      ],
      "source": [
        "import numpy as np\n",
        "a = np.array([[1,2,3],[4,5,6]])\n",
        "print(\"No of Dimensions:\\t\",a.ndim)\n",
        "print(\"Size(in bytes):\\t\\t\",a.itemsize)\n",
        "print(\"Dimensions:\\t\\t\",a.shape)\n",
        "a"
      ]
    },
    {
      "cell_type": "code",
      "source": [
        "import sys\n",
        "s = range(1000)\n",
        "print(sys.getsizeof(s))"
      ],
      "metadata": {
        "colab": {
          "base_uri": "https://localhost:8080/"
        },
        "id": "jsq9Z3s12CZu",
        "outputId": "59304cb0-c10b-48b1-d61f-7551d369099b"
      },
      "execution_count": null,
      "outputs": [
        {
          "output_type": "stream",
          "name": "stdout",
          "text": [
            "48\n"
          ]
        }
      ]
    },
    {
      "cell_type": "code",
      "source": [
        "a = np.linspace(1,3,10)\n",
        "a"
      ],
      "metadata": {
        "colab": {
          "base_uri": "https://localhost:8080/"
        },
        "id": "rO2O5PRZ5Zwn",
        "outputId": "e15791a5-40b2-48dc-fa5f-4868457871c0"
      },
      "execution_count": null,
      "outputs": [
        {
          "output_type": "execute_result",
          "data": {
            "text/plain": [
              "array([1.        , 1.22222222, 1.44444444, 1.66666667, 1.88888889,\n",
              "       2.11111111, 2.33333333, 2.55555556, 2.77777778, 3.        ])"
            ]
          },
          "metadata": {},
          "execution_count": 3
        }
      ]
    },
    {
      "cell_type": "code",
      "source": [
        "a = np.array([[1,2,3],[4,5,6]])\n",
        "b = np.array([[1,2,3],[4,5,6]])\n",
        "print(np.hstack((a,b)))"
      ],
      "metadata": {
        "colab": {
          "base_uri": "https://localhost:8080/"
        },
        "id": "HIykb9bu5gFR",
        "outputId": "8084bafa-9fd9-437c-9f77-5e1840dbb2e3"
      },
      "execution_count": null,
      "outputs": [
        {
          "output_type": "stream",
          "name": "stdout",
          "text": [
            "[[1 2 3 1 2 3]\n",
            " [4 5 6 4 5 6]]\n"
          ]
        }
      ]
    },
    {
      "cell_type": "code",
      "source": [
        "import pandas as pd\n",
        "pd.options.display.max_rows = 999\n",
        "df = pd.read_csv('/content/drive/annual-enterprise-survey-2021-financial-year-provisional-csv.csv')\n",
        "print(df)"
      ],
      "metadata": {
        "colab": {
          "base_uri": "https://localhost:8080/"
        },
        "id": "7k-P086g_x8l",
        "outputId": "34895b1a-d711-436d-a058-4a322bdc98da"
      },
      "execution_count": null,
      "outputs": [
        {
          "output_type": "stream",
          "name": "stdout",
          "text": [
            "       Year Industry_aggregation_NZSIOC Industry_code_NZSIOC  \\\n",
            "0      2021                     Level 1                99999   \n",
            "1      2021                     Level 1                99999   \n",
            "2      2021                     Level 1                99999   \n",
            "3      2021                     Level 1                99999   \n",
            "4      2021                     Level 1                99999   \n",
            "...     ...                         ...                  ...   \n",
            "41710  2013                     Level 3                 ZZ11   \n",
            "41711  2013                     Level 3                 ZZ11   \n",
            "41712  2013                     Level 3                 ZZ11   \n",
            "41713  2013                     Level 3                 ZZ11   \n",
            "41714  2013                     Level 3                 ZZ11   \n",
            "\n",
            "             Industry_name_NZSIOC               Units Variable_code  \\\n",
            "0                  All industries  Dollars (millions)           H01   \n",
            "1                  All industries  Dollars (millions)           H04   \n",
            "2                  All industries  Dollars (millions)           H05   \n",
            "3                  All industries  Dollars (millions)           H07   \n",
            "4                  All industries  Dollars (millions)           H08   \n",
            "...                           ...                 ...           ...   \n",
            "41710  Food product manufacturing          Percentage           H37   \n",
            "41711  Food product manufacturing          Percentage           H38   \n",
            "41712  Food product manufacturing          Percentage           H39   \n",
            "41713  Food product manufacturing          Percentage           H40   \n",
            "41714  Food product manufacturing          Percentage           H41   \n",
            "\n",
            "                                         Variable_name      Variable_category  \\\n",
            "0                                         Total income  Financial performance   \n",
            "1      Sales, government funding, grants and subsidies  Financial performance   \n",
            "2                    Interest, dividends and donations  Financial performance   \n",
            "3                                 Non-operating income  Financial performance   \n",
            "4                                    Total expenditure  Financial performance   \n",
            "...                                                ...                    ...   \n",
            "41710                                      Quick ratio       Financial ratios   \n",
            "41711              Margin on sales of goods for resale       Financial ratios   \n",
            "41712                                 Return on equity       Financial ratios   \n",
            "41713                           Return on total assets       Financial ratios   \n",
            "41714                            Liabilities structure       Financial ratios   \n",
            "\n",
            "         Value                             Industry_code_ANZSIC06  \n",
            "0      757,504  ANZSIC06 divisions A-S (excluding classes K633...  \n",
            "1      674,890  ANZSIC06 divisions A-S (excluding classes K633...  \n",
            "2       49,593  ANZSIC06 divisions A-S (excluding classes K633...  \n",
            "3       33,020  ANZSIC06 divisions A-S (excluding classes K633...  \n",
            "4      654,404  ANZSIC06 divisions A-S (excluding classes K633...  \n",
            "...        ...                                                ...  \n",
            "41710       52  ANZSIC06 groups C111, C112, C113, C114, C115, ...  \n",
            "41711       40  ANZSIC06 groups C111, C112, C113, C114, C115, ...  \n",
            "41712       12  ANZSIC06 groups C111, C112, C113, C114, C115, ...  \n",
            "41713        5  ANZSIC06 groups C111, C112, C113, C114, C115, ...  \n",
            "41714       46  ANZSIC06 groups C111, C112, C113, C114, C115, ...  \n",
            "\n",
            "[41715 rows x 10 columns]\n"
          ]
        }
      ]
    },
    {
      "cell_type": "code",
      "source": [
        "print(df.head(10))"
      ],
      "metadata": {
        "colab": {
          "base_uri": "https://localhost:8080/"
        },
        "id": "FbliIJv2BaAd",
        "outputId": "d33c1939-484d-4180-a3da-e5a950a68221"
      },
      "execution_count": null,
      "outputs": [
        {
          "output_type": "stream",
          "name": "stdout",
          "text": [
            "   Year Industry_aggregation_NZSIOC Industry_code_NZSIOC Industry_name_NZSIOC  \\\n",
            "0  2021                     Level 1                99999       All industries   \n",
            "1  2021                     Level 1                99999       All industries   \n",
            "2  2021                     Level 1                99999       All industries   \n",
            "3  2021                     Level 1                99999       All industries   \n",
            "4  2021                     Level 1                99999       All industries   \n",
            "5  2021                     Level 1                99999       All industries   \n",
            "6  2021                     Level 1                99999       All industries   \n",
            "7  2021                     Level 1                99999       All industries   \n",
            "8  2021                     Level 1                99999       All industries   \n",
            "9  2021                     Level 1                99999       All industries   \n",
            "\n",
            "                Units Variable_code  \\\n",
            "0  Dollars (millions)           H01   \n",
            "1  Dollars (millions)           H04   \n",
            "2  Dollars (millions)           H05   \n",
            "3  Dollars (millions)           H07   \n",
            "4  Dollars (millions)           H08   \n",
            "5  Dollars (millions)           H09   \n",
            "6  Dollars (millions)           H10   \n",
            "7  Dollars (millions)           H11   \n",
            "8  Dollars (millions)           H12   \n",
            "9  Dollars (millions)           H13   \n",
            "\n",
            "                                     Variable_name      Variable_category  \\\n",
            "0                                     Total income  Financial performance   \n",
            "1  Sales, government funding, grants and subsidies  Financial performance   \n",
            "2                Interest, dividends and donations  Financial performance   \n",
            "3                             Non-operating income  Financial performance   \n",
            "4                                Total expenditure  Financial performance   \n",
            "5                           Interest and donations  Financial performance   \n",
            "6                                   Indirect taxes  Financial performance   \n",
            "7                                     Depreciation  Financial performance   \n",
            "8                          Salaries and wages paid  Financial performance   \n",
            "9                         Redundancy and severance  Financial performance   \n",
            "\n",
            "     Value                             Industry_code_ANZSIC06  \n",
            "0  757,504  ANZSIC06 divisions A-S (excluding classes K633...  \n",
            "1  674,890  ANZSIC06 divisions A-S (excluding classes K633...  \n",
            "2   49,593  ANZSIC06 divisions A-S (excluding classes K633...  \n",
            "3   33,020  ANZSIC06 divisions A-S (excluding classes K633...  \n",
            "4  654,404  ANZSIC06 divisions A-S (excluding classes K633...  \n",
            "5   26,138  ANZSIC06 divisions A-S (excluding classes K633...  \n",
            "6    6,991  ANZSIC06 divisions A-S (excluding classes K633...  \n",
            "7   27,801  ANZSIC06 divisions A-S (excluding classes K633...  \n",
            "8  123,620  ANZSIC06 divisions A-S (excluding classes K633...  \n",
            "9      275  ANZSIC06 divisions A-S (excluding classes K633...  \n"
          ]
        }
      ]
    },
    {
      "cell_type": "code",
      "source": [
        "import pandas as pd\n",
        "import matplotlib.pyplot as plt\n",
        "\n",
        "plt.rcParams[\"figure.figsize\"] = [7.50, 3.50]\n",
        "plt.rcParams[\"figure.autolayout\"] = True\n",
        "\n",
        "headers = ['Department', 'Values']\n",
        "\n",
        "df = pd.read_csv('/content/drive/sample.csv', names=headers)\n",
        "\n",
        "df.set_index('Department').plot()\n",
        "\n",
        "plt.show()"
      ],
      "metadata": {
        "id": "kHdOp5jqI9lZ"
      },
      "execution_count": null,
      "outputs": []
    },
    {
      "cell_type": "code",
      "source": [
        "df"
      ],
      "metadata": {
        "colab": {
          "base_uri": "https://localhost:8080/",
          "height": 457
        },
        "id": "UjXE1j1IK9hC",
        "outputId": "6d379d48-b739-47d9-f330-053d16976a55"
      },
      "execution_count": null,
      "outputs": [
        {
          "output_type": "execute_result",
          "data": {
            "text/plain": [
              "                                                 Name        Age\n",
              "0                   Agriculture, Forestry and Fishing    419,000\n",
              "1                                              Mining    886,300\n",
              "2                                       Manufacturing    495,000\n",
              "3          Electricity, Gas, Water and Waste Services  1,211,500\n",
              "4                                        Construction    409,900\n",
              "5                                     Wholesale Trade  1,026,500\n",
              "6                      Retail Trade and Accommodation    267,000\n",
              "7                   Transport, Postal and Warehousing    268,600\n",
              "8            Information Media and Telecommunications    484,100\n",
              "9                    Financial and Insurance Services  1,239,000\n",
              "10            Rental, Hiring and Real Estate Services  1,300,300\n",
              "11  Professional, Scientific, Technical, Administr...    209,900\n",
              "12                Arts, Recreation and Other Services    225,100"
            ],
            "text/html": [
              "\n",
              "  <div id=\"df-18409103-88b1-4ba6-b15e-e426c6149e5f\">\n",
              "    <div class=\"colab-df-container\">\n",
              "      <div>\n",
              "<style scoped>\n",
              "    .dataframe tbody tr th:only-of-type {\n",
              "        vertical-align: middle;\n",
              "    }\n",
              "\n",
              "    .dataframe tbody tr th {\n",
              "        vertical-align: top;\n",
              "    }\n",
              "\n",
              "    .dataframe thead th {\n",
              "        text-align: right;\n",
              "    }\n",
              "</style>\n",
              "<table border=\"1\" class=\"dataframe\">\n",
              "  <thead>\n",
              "    <tr style=\"text-align: right;\">\n",
              "      <th></th>\n",
              "      <th>Name</th>\n",
              "      <th>Age</th>\n",
              "    </tr>\n",
              "  </thead>\n",
              "  <tbody>\n",
              "    <tr>\n",
              "      <th>0</th>\n",
              "      <td>Agriculture, Forestry and Fishing</td>\n",
              "      <td>419,000</td>\n",
              "    </tr>\n",
              "    <tr>\n",
              "      <th>1</th>\n",
              "      <td>Mining</td>\n",
              "      <td>886,300</td>\n",
              "    </tr>\n",
              "    <tr>\n",
              "      <th>2</th>\n",
              "      <td>Manufacturing</td>\n",
              "      <td>495,000</td>\n",
              "    </tr>\n",
              "    <tr>\n",
              "      <th>3</th>\n",
              "      <td>Electricity, Gas, Water and Waste Services</td>\n",
              "      <td>1,211,500</td>\n",
              "    </tr>\n",
              "    <tr>\n",
              "      <th>4</th>\n",
              "      <td>Construction</td>\n",
              "      <td>409,900</td>\n",
              "    </tr>\n",
              "    <tr>\n",
              "      <th>5</th>\n",
              "      <td>Wholesale Trade</td>\n",
              "      <td>1,026,500</td>\n",
              "    </tr>\n",
              "    <tr>\n",
              "      <th>6</th>\n",
              "      <td>Retail Trade and Accommodation</td>\n",
              "      <td>267,000</td>\n",
              "    </tr>\n",
              "    <tr>\n",
              "      <th>7</th>\n",
              "      <td>Transport, Postal and Warehousing</td>\n",
              "      <td>268,600</td>\n",
              "    </tr>\n",
              "    <tr>\n",
              "      <th>8</th>\n",
              "      <td>Information Media and Telecommunications</td>\n",
              "      <td>484,100</td>\n",
              "    </tr>\n",
              "    <tr>\n",
              "      <th>9</th>\n",
              "      <td>Financial and Insurance Services</td>\n",
              "      <td>1,239,000</td>\n",
              "    </tr>\n",
              "    <tr>\n",
              "      <th>10</th>\n",
              "      <td>Rental, Hiring and Real Estate Services</td>\n",
              "      <td>1,300,300</td>\n",
              "    </tr>\n",
              "    <tr>\n",
              "      <th>11</th>\n",
              "      <td>Professional, Scientific, Technical, Administr...</td>\n",
              "      <td>209,900</td>\n",
              "    </tr>\n",
              "    <tr>\n",
              "      <th>12</th>\n",
              "      <td>Arts, Recreation and Other Services</td>\n",
              "      <td>225,100</td>\n",
              "    </tr>\n",
              "  </tbody>\n",
              "</table>\n",
              "</div>\n",
              "      <button class=\"colab-df-convert\" onclick=\"convertToInteractive('df-18409103-88b1-4ba6-b15e-e426c6149e5f')\"\n",
              "              title=\"Convert this dataframe to an interactive table.\"\n",
              "              style=\"display:none;\">\n",
              "        \n",
              "  <svg xmlns=\"http://www.w3.org/2000/svg\" height=\"24px\"viewBox=\"0 0 24 24\"\n",
              "       width=\"24px\">\n",
              "    <path d=\"M0 0h24v24H0V0z\" fill=\"none\"/>\n",
              "    <path d=\"M18.56 5.44l.94 2.06.94-2.06 2.06-.94-2.06-.94-.94-2.06-.94 2.06-2.06.94zm-11 1L8.5 8.5l.94-2.06 2.06-.94-2.06-.94L8.5 2.5l-.94 2.06-2.06.94zm10 10l.94 2.06.94-2.06 2.06-.94-2.06-.94-.94-2.06-.94 2.06-2.06.94z\"/><path d=\"M17.41 7.96l-1.37-1.37c-.4-.4-.92-.59-1.43-.59-.52 0-1.04.2-1.43.59L10.3 9.45l-7.72 7.72c-.78.78-.78 2.05 0 2.83L4 21.41c.39.39.9.59 1.41.59.51 0 1.02-.2 1.41-.59l7.78-7.78 2.81-2.81c.8-.78.8-2.07 0-2.86zM5.41 20L4 18.59l7.72-7.72 1.47 1.35L5.41 20z\"/>\n",
              "  </svg>\n",
              "      </button>\n",
              "      \n",
              "  <style>\n",
              "    .colab-df-container {\n",
              "      display:flex;\n",
              "      flex-wrap:wrap;\n",
              "      gap: 12px;\n",
              "    }\n",
              "\n",
              "    .colab-df-convert {\n",
              "      background-color: #E8F0FE;\n",
              "      border: none;\n",
              "      border-radius: 50%;\n",
              "      cursor: pointer;\n",
              "      display: none;\n",
              "      fill: #1967D2;\n",
              "      height: 32px;\n",
              "      padding: 0 0 0 0;\n",
              "      width: 32px;\n",
              "    }\n",
              "\n",
              "    .colab-df-convert:hover {\n",
              "      background-color: #E2EBFA;\n",
              "      box-shadow: 0px 1px 2px rgba(60, 64, 67, 0.3), 0px 1px 3px 1px rgba(60, 64, 67, 0.15);\n",
              "      fill: #174EA6;\n",
              "    }\n",
              "\n",
              "    [theme=dark] .colab-df-convert {\n",
              "      background-color: #3B4455;\n",
              "      fill: #D2E3FC;\n",
              "    }\n",
              "\n",
              "    [theme=dark] .colab-df-convert:hover {\n",
              "      background-color: #434B5C;\n",
              "      box-shadow: 0px 1px 3px 1px rgba(0, 0, 0, 0.15);\n",
              "      filter: drop-shadow(0px 1px 2px rgba(0, 0, 0, 0.3));\n",
              "      fill: #FFFFFF;\n",
              "    }\n",
              "  </style>\n",
              "\n",
              "      <script>\n",
              "        const buttonEl =\n",
              "          document.querySelector('#df-18409103-88b1-4ba6-b15e-e426c6149e5f button.colab-df-convert');\n",
              "        buttonEl.style.display =\n",
              "          google.colab.kernel.accessAllowed ? 'block' : 'none';\n",
              "\n",
              "        async function convertToInteractive(key) {\n",
              "          const element = document.querySelector('#df-18409103-88b1-4ba6-b15e-e426c6149e5f');\n",
              "          const dataTable =\n",
              "            await google.colab.kernel.invokeFunction('convertToInteractive',\n",
              "                                                     [key], {});\n",
              "          if (!dataTable) return;\n",
              "\n",
              "          const docLinkHtml = 'Like what you see? Visit the ' +\n",
              "            '<a target=\"_blank\" href=https://colab.research.google.com/notebooks/data_table.ipynb>data table notebook</a>'\n",
              "            + ' to learn more about interactive tables.';\n",
              "          element.innerHTML = '';\n",
              "          dataTable['output_type'] = 'display_data';\n",
              "          await google.colab.output.renderOutput(dataTable, element);\n",
              "          const docLink = document.createElement('div');\n",
              "          docLink.innerHTML = docLinkHtml;\n",
              "          element.appendChild(docLink);\n",
              "        }\n",
              "      </script>\n",
              "    </div>\n",
              "  </div>\n",
              "  "
            ]
          },
          "metadata": {},
          "execution_count": 46
        }
      ]
    },
    {
      "cell_type": "code",
      "source": [
        "df = pd.read_csv('/content/drive/sample.csv')"
      ],
      "metadata": {
        "id": "EIUluCP1LTcx"
      },
      "execution_count": null,
      "outputs": []
    },
    {
      "cell_type": "code",
      "source": [
        "print(df)"
      ],
      "metadata": {
        "colab": {
          "base_uri": "https://localhost:8080/"
        },
        "id": "EWsgkAD5LaVW",
        "outputId": "2bf30ba2-470e-44ae-b705-c9e580aa9080"
      },
      "execution_count": null,
      "outputs": [
        {
          "output_type": "stream",
          "name": "stdout",
          "text": [
            "                                           Department     Values\n",
            "0                   Agriculture, Forestry and Fishing    419,000\n",
            "1                                              Mining    886,300\n",
            "2                                       Manufacturing    495,000\n",
            "3          Electricity, Gas, Water and Waste Services  1,211,500\n",
            "4                                        Construction    409,900\n",
            "5                                     Wholesale Trade  1,026,500\n",
            "6                      Retail Trade and Accommodation    267,000\n",
            "7                   Transport, Postal and Warehousing    268,600\n",
            "8            Information Media and Telecommunications    484,100\n",
            "9                    Financial and Insurance Services  1,239,000\n",
            "10            Rental, Hiring and Real Estate Services  1,300,300\n",
            "11  Professional, Scientific, Technical, Administr...    209,900\n",
            "12                Arts, Recreation and Other Services    225,100\n"
          ]
        }
      ]
    },
    {
      "cell_type": "code",
      "source": [
        "plt.plot(df.Department, df.Values)\n",
        "plt.show()"
      ],
      "metadata": {
        "colab": {
          "base_uri": "https://localhost:8080/",
          "height": 261
        },
        "id": "sV8f_xO1LlQp",
        "outputId": "879248e8-c9e4-47b7-c1fb-91a18c4ca63b"
      },
      "execution_count": null,
      "outputs": [
        {
          "output_type": "display_data",
          "data": {
            "text/plain": [
              "<Figure size 540x252 with 1 Axes>"
            ],
            "image/png": "[encoded data removed]"
          },
          "metadata": {
            "needs_background": "light"
          }
        }
      ]
    },
    {
      "cell_type": "code",
      "source": [
        "df.Values"
      ],
      "metadata": {
        "colab": {
          "base_uri": "https://localhost:8080/"
        },
        "id": "AleA1U2nL2qi",
        "outputId": "08c9faf8-e3c2-4af0-8c81-d8619bcb43c6"
      },
      "execution_count": null,
      "outputs": [
        {
          "output_type": "execute_result",
          "data": {
            "text/plain": [
              "0       419,000\n",
              "1       886,300\n",
              "2       495,000\n",
              "3     1,211,500\n",
              "4       409,900\n",
              "5     1,026,500\n",
              "6       267,000\n",
              "7       268,600\n",
              "8       484,100\n",
              "9     1,239,000\n",
              "10    1,300,300\n",
              "11      209,900\n",
              "12      225,100\n",
              "Name: Values, dtype: object"
            ]
          },
          "metadata": {},
          "execution_count": 54
        }
      ]
    },
    {
      "cell_type": "code",
      "source": [
        "df[\"Values\"] = df[\"Values\"].replace('', regex=True).astype(int);"
      ],
      "metadata": {
        "id": "W6Ly3_ynL8_p"
      },
      "execution_count": null,
      "outputs": []
    },
    {
      "cell_type": "code",
      "source": [
        "df.Values"
      ],
      "metadata": {
        "colab": {
          "base_uri": "https://localhost:8080/"
        },
        "id": "QvOcIdV3MGP-",
        "outputId": "d0ac7051-383f-47c3-c768-02c8206af805"
      },
      "execution_count": null,
      "outputs": [
        {
          "output_type": "execute_result",
          "data": {
            "text/plain": [
              "0      419000\n",
              "1      886300\n",
              "2      495000\n",
              "3     1211500\n",
              "4      409900\n",
              "5     1026500\n",
              "6      267000\n",
              "7      268600\n",
              "8      484100\n",
              "9     1239000\n",
              "10    1300300\n",
              "11     209900\n",
              "12     225100\n",
              "Name: Values, dtype: int64"
            ]
          },
          "metadata": {},
          "execution_count": 64
        }
      ]
    },
    {
      "cell_type": "code",
      "source": [
        "plt.plot(df.Department, df.Values)\n",
        "plt.show()"
      ],
      "metadata": {
        "colab": {
          "base_uri": "https://localhost:8080/",
          "height": 261
        },
        "id": "zLFamPJ7MK2x",
        "outputId": "02fbf361-7772-4a27-91a7-721ea53b4c71"
      },
      "execution_count": null,
      "outputs": [
        {
          "output_type": "display_data",
          "data": {
            "text/plain": [
              "<Figure size 540x252 with 1 Axes>"
            ],
            "image/png": "[encoded data removed]"
          },
          "metadata": {
            "needs_background": "light"
          }
        }
      ]
    },
    {
      "cell_type": "code",
      "source": [
        "plt.scatter(df.Department, df.Values)"
      ],
      "metadata": {
        "colab": {
          "base_uri": "https://localhost:8080/",
          "height": 278
        },
        "id": "vdrRImqBMcDk",
        "outputId": "025ca25d-bc2d-4361-b150-9e6402efe726"
      },
      "execution_count": null,
      "outputs": [
        {
          "output_type": "execute_result",
          "data": {
            "text/plain": [
              "<matplotlib.collections.PathCollection at 0x7fae3ae439a0>"
            ]
          },
          "metadata": {},
          "execution_count": 58
        },
        {
          "output_type": "display_data",
          "data": {
            "text/plain": [
              "<Figure size 540x252 with 1 Axes>"
            ],
            "image/png": "[encoded data removed]"
          },
          "metadata": {
            "needs_background": "light"
          }
        }
      ]
    },
    {
      "cell_type": "code",
      "source": [
        "x = df.Department\n",
        "y = df.Values\n",
        "plt.plot(x, y, color = 'g', linestyle = 'dashed',\n",
        "         marker = 'o',label = \"Weather Data\")\n",
        "  \n",
        "plt.xticks(rotation = 25)\n",
        "plt.xlabel('Dates')\n",
        "plt.ylabel('Temperature(°C)')\n",
        "plt.title('Weather Report', fontsize = 20)\n",
        "plt.grid()\n",
        "plt.legend()\n",
        "plt.show()"
      ],
      "metadata": {
        "colab": {
          "base_uri": "https://localhost:8080/",
          "height": 261
        },
        "id": "nBqer4OuMyqb",
        "outputId": "49481d4e-dee6-40d7-aa0b-dc940fb0710c"
      },
      "execution_count": null,
      "outputs": [
        {
          "output_type": "display_data",
          "data": {
            "text/plain": [
              "<Figure size 540x252 with 1 Axes>"
            ],
            "image/png": "[encoded data removed]"
          },
          "metadata": {
            "needs_background": "light"
          }
        }
      ]
    },
    {
      "cell_type": "markdown",
      "source": [
        "**Lab 3-Gaussian Naive Bayes**"
      ],
      "metadata": {
        "id": "ttmUWtfZW7y_"
      }
    },
    {
      "cell_type": "code",
      "source": [
        "from sklearn.preprocessing import LabelEncoder\n",
        "from sklearn.model_selection import train_test_split\n",
        "from sklearn.naive_bayes import GaussianNB\n",
        "from sklearn import preprocessing\n",
        "from sklearn.metrics import classification_report, confusion_matrix"
      ],
      "metadata": {
        "id": "uFiNNH80HPUK"
      },
      "execution_count": null,
      "outputs": []
    },
    {
      "cell_type": "code",
      "source": [
        "#creating labelEncoder\n",
        "le = preprocessing.LabelEncoder()\n",
        "\n",
        "# Converting string labels into numbers.\n",
        "CGPA_encoded = le.fit_transform(CGPA)\n",
        "print(\"CGPA:  \", CGPA_encoded)\n",
        "\n",
        "Inter_encoded = le.fit_transform(Inter)\n",
        "PK_encoded = le.fit_transform(PK)\n",
        "CS_encoded = le.fit_transform(CS)\n",
        "label = le.fit_transform(Job)\n",
        "print(\"Inter: \",Inter_encoded)\n",
        "print(\"PK:    \",PK_encoded)\n",
        "print(\"CS:    \",CS_encoded)\n",
        "print(\"Job:   \",label)"
      ],
      "metadata": {
        "colab": {
          "base_uri": "https://localhost:8080/"
        },
        "id": "E5S60sgDHZwP",
        "outputId": "14a8216c-2923-4775-f186-493758f4d354"
      },
      "execution_count": null,
      "outputs": [
        {
          "output_type": "stream",
          "name": "stdout",
          "text": [
            "CGPA:   [1 0 1 2 0 1 2 1 0 0]\n",
            "Inter:  [1 0 0 0 1 1 1 0 1 1]\n",
            "PK:     [1 0 2 2 0 0 0 1 0 2]\n",
            "CS:     [0 1 2 0 1 1 2 0 0 0]\n",
            "Job:    [1 1 0 0 1 1 0 1 1 1]\n"
          ]
        }
      ]
    },
    {
      "cell_type": "code",
      "source": [
        "features = []\n",
        "\n",
        "for i in range(len(CGPA_encoded)):\n",
        "  features.append([CGPA_encoded[i], Inter_encoded[i], PK_encoded[i],CS_encoded[i]])\n",
        "\n",
        "X_train,X_test,y_train,y_test=train_test_split(features,label,test_size=0.30,random_state=2)\n",
        "\n",
        "#Create a Gaussian Classifier\n",
        "model = GaussianNB()\n",
        "\n",
        "# Train the model using the training sets\n",
        "model.fit(features,label)"
      ],
      "metadata": {
        "colab": {
          "base_uri": "https://localhost:8080/",
          "height": 75
        },
        "id": "wNALfdAlHtH7",
        "outputId": "0023f327-c317-4785-b19a-f7edeb0fe943"
      },
      "execution_count": null,
      "outputs": [
        {
          "output_type": "execute_result",
          "data": {
            "text/plain": [
              "GaussianNB()"
            ],
            "text/html": [
              "<style>#sk-container-id-1 {color: black;background-color: white;}#sk-container-id-1 pre{padding: 0;}#sk-container-id-1 div.sk-toggleable {background-color: white;}#sk-container-id-1 label.sk-toggleable__label {cursor: pointer;display: block;width: 100%;margin-bottom: 0;padding: 0.3em;box-sizing: border-box;text-align: center;}#sk-container-id-1 label.sk-toggleable__label-arrow:before {content: \"▸\";float: left;margin-right: 0.25em;color: #696969;}#sk-container-id-1 label.sk-toggleable__label-arrow:hover:before {color: black;}#sk-container-id-1 div.sk-estimator:hover label.sk-toggleable__label-arrow:before {color: black;}#sk-container-id-1 div.sk-toggleable__content {max-height: 0;max-width: 0;overflow: hidden;text-align: left;background-color: #f0f8ff;}#sk-container-id-1 div.sk-toggleable__content pre {margin: 0.2em;color: black;border-radius: 0.25em;background-color: #f0f8ff;}#sk-container-id-1 input.sk-toggleable__control:checked~div.sk-toggleable__content {max-height: 200px;max-width: 100%;overflow: auto;}#sk-container-id-1 input.sk-toggleable__control:checked~label.sk-toggleable__label-arrow:before {content: \"▾\";}#sk-container-id-1 div.sk-estimator input.sk-toggleable__control:checked~label.sk-toggleable__label {background-color: #d4ebff;}#sk-container-id-1 div.sk-label input.sk-toggleable__control:checked~label.sk-toggleable__label {background-color: #d4ebff;}#sk-container-id-1 input.sk-hidden--visually {border: 0;clip: rect(1px 1px 1px 1px);clip: rect(1px, 1px, 1px, 1px);height: 1px;margin: -1px;overflow: hidden;padding: 0;position: absolute;width: 1px;}#sk-container-id-1 div.sk-estimator {font-family: monospace;background-color: #f0f8ff;border: 1px dotted black;border-radius: 0.25em;box-sizing: border-box;margin-bottom: 0.5em;}#sk-container-id-1 div.sk-estimator:hover {background-color: #d4ebff;}#sk-container-id-1 div.sk-parallel-item::after {content: \"\";width: 100%;border-bottom: 1px solid gray;flex-grow: 1;}#sk-container-id-1 div.sk-label:hover label.sk-toggleable__label {background-color: #d4ebff;}#sk-container-id-1 div.sk-serial::before {content: \"\";position: absolute;border-left: 1px solid gray;box-sizing: border-box;top: 0;bottom: 0;left: 50%;z-index: 0;}#sk-container-id-1 div.sk-serial {display: flex;flex-direction: column;align-items: center;background-color: white;padding-right: 0.2em;padding-left: 0.2em;position: relative;}#sk-container-id-1 div.sk-item {position: relative;z-index: 1;}#sk-container-id-1 div.sk-parallel {display: flex;align-items: stretch;justify-content: center;background-color: white;position: relative;}#sk-container-id-1 div.sk-item::before, #sk-container-id-1 div.sk-parallel-item::before {content: \"\";position: absolute;border-left: 1px solid gray;box-sizing: border-box;top: 0;bottom: 0;left: 50%;z-index: -1;}#sk-container-id-1 div.sk-parallel-item {display: flex;flex-direction: column;z-index: 1;position: relative;background-color: white;}#sk-container-id-1 div.sk-parallel-item:first-child::after {align-self: flex-end;width: 50%;}#sk-container-id-1 div.sk-parallel-item:last-child::after {align-self: flex-start;width: 50%;}#sk-container-id-1 div.sk-parallel-item:only-child::after {width: 0;}#sk-container-id-1 div.sk-dashed-wrapped {border: 1px dashed gray;margin: 0 0.4em 0.5em 0.4em;box-sizing: border-box;padding-bottom: 0.4em;background-color: white;}#sk-container-id-1 div.sk-label label {font-family: monospace;font-weight: bold;display: inline-block;line-height: 1.2em;}#sk-container-id-1 div.sk-label-container {text-align: center;}#sk-container-id-1 div.sk-container {/* jupyter's `normalize.less` sets `[hidden] { display: none; }` but bootstrap.min.css set `[hidden] { display: none !important; }` so we also need the `!important` here to be able to override the default hidden behavior on the sphinx rendered scikit-learn.org. See: https://github.com/scikit-learn/scikit-learn/issues/21755 */display: inline-block !important;position: relative;}#sk-container-id-1 div.sk-text-repr-fallback {display: none;}</style><div id=\"sk-container-id-1\" class=\"sk-top-container\"><div class=\"sk-text-repr-fallback\"><pre>GaussianNB()</pre><b>In a Jupyter environment, please rerun this cell to show the HTML representation or trust the notebook. <br />On GitHub, the HTML representation is unable to render, please try loading this page with nbviewer.org.</b></div><div class=\"sk-container\" hidden><div class=\"sk-item\"><div class=\"sk-estimator sk-toggleable\"><input class=\"sk-toggleable__control sk-hidden--visually\" id=\"sk-estimator-id-1\" type=\"checkbox\" checked><label for=\"sk-estimator-id-1\" class=\"sk-toggleable__label sk-toggleable__label-arrow\">GaussianNB</label><div class=\"sk-toggleable__content\"><pre>GaussianNB()</pre></div></div></div></div></div>"
            ]
          },
          "metadata": {},
          "execution_count": 8
        }
      ]
    },
    {
      "cell_type": "code",
      "source": [
        "#Predict Output\n",
        "y_pred = model.predict(X_test)\n",
        "\n",
        "print(classification_report(y_test, y_pred))\n",
        "print(confusion_matrix(y_test, y_pred))\n",
        "print([2,0,2,0])"
      ],
      "metadata": {
        "colab": {
          "base_uri": "https://localhost:8080/"
        },
        "id": "RlYsdDmMH4s7",
        "outputId": "3b4da5bf-7dbc-4568-a6b5-56db75a298bd"
      },
      "execution_count": null,
      "outputs": [
        {
          "output_type": "stream",
          "name": "stdout",
          "text": [
            "              precision    recall  f1-score   support\n",
            "\n",
            "           1       1.00      1.00      1.00         3\n",
            "\n",
            "    accuracy                           1.00         3\n",
            "   macro avg       1.00      1.00      1.00         3\n",
            "weighted avg       1.00      1.00      1.00         3\n",
            "\n",
            "[[3]]\n",
            "[2, 0, 2, 0]\n"
          ]
        }
      ]
    },
    {
      "cell_type": "code",
      "execution_count": null,
      "metadata": {
        "colab": {
          "base_uri": "https://localhost:8080/"
        },
        "id": "PTZv-nGSFTHR",
        "outputId": "fabd6f43-7986-4f90-a4e0-84420a1b8771"
      },
      "outputs": [
        {
          "output_type": "stream",
          "name": "stdout",
          "text": [
            "Predicted Value:Didn't get JOB\n",
            "[0, 1, 0, 1]\n",
            "Predicted Value:Got JOB\n"
          ]
        }
      ],
      "source": [
        "if model.predict([[2,0,2,0]])==1:\n",
        "  print(\"Predicted Value:Got JOB\")\n",
        "else:\n",
        "  print(\"Predicted Value:Didn't get JOB\")\n",
        "\n",
        "print([0,1,0,1])\n",
        "\n",
        "if model.predict([[0,1,0,1]])==1:\n",
        "  print(\"Predicted Value:Got JOB\")\n",
        "else:\n",
        "  print(\"Predicted Value:Didn't get JOB\")"
      ]
    },
    {
      "cell_type": "markdown",
      "source": [
        "**Lab 4-Spam or Not Spam**"
      ],
      "metadata": {
        "id": "nItbtwNEW-Zw"
      }
    },
    {
      "cell_type": "code",
      "execution_count": null,
      "metadata": {
        "id": "gZd5dyBlC2sy"
      },
      "outputs": [],
      "source": [
        "from sklearn.preprocessing import LabelEncoder\n",
        "from sklearn.model_selection import train_test_split\n",
        "from sklearn.naive_bayes import GaussianNB\n",
        "from sklearn import preprocessing\n",
        "from sklearn.metrics import classification_report, confusion_matrix"
      ]
    },
    {
      "cell_type": "code",
      "source": [
        "import pandas as pd\n",
        "pd.options.display.max_rows = 999\n",
        "df = pd.read_csv('/content/drive/spam_or_not_spam.csv')\n",
        "print(df)"
      ],
      "metadata": {
        "colab": {
          "base_uri": "https://localhost:8080/"
        },
        "id": "cbrnFoyMEx21",
        "outputId": "bed1b3db-96f8-4d5a-dc28-492a3ed9a857"
      },
      "execution_count": null,
      "outputs": [
        {
          "output_type": "stream",
          "name": "stdout",
          "text": [
            "                                                  email  label\n",
            "0      date wed NUMBER aug NUMBER NUMBER NUMBER NUMB...      0\n",
            "1     martin a posted tassos papadopoulos the greek ...      0\n",
            "2     man threatens explosion in moscow thursday aug...      0\n",
            "3     klez the virus that won t die already the most...      0\n",
            "4      in adding cream to spaghetti carbonara which ...      0\n",
            "...                                                 ...    ...\n",
            "2995   abc s good morning america ranks it the NUMBE...      1\n",
            "2996   hyperlink hyperlink hyperlink let mortgage le...      1\n",
            "2997   thank you for shopping with us gifts for all ...      1\n",
            "2998   the famous ebay marketing e course learn to s...      1\n",
            "2999   hello this is chinese traditional 子 件 NUMBER世...      1\n",
            "\n",
            "[3000 rows x 2 columns]\n"
          ]
        }
      ]
    },
    {
      "cell_type": "code",
      "source": [
        "df.label"
      ],
      "metadata": {
        "colab": {
          "base_uri": "https://localhost:8080/"
        },
        "id": "atuYl4WRGfwB",
        "outputId": "2ac65afc-6829-4190-a712-7ecc76ed80f2"
      },
      "execution_count": null,
      "outputs": [
        {
          "output_type": "execute_result",
          "data": {
            "text/plain": [
              "0       0\n",
              "1       0\n",
              "2       0\n",
              "3       0\n",
              "4       0\n",
              "       ..\n",
              "2995    1\n",
              "2996    1\n",
              "2997    1\n",
              "2998    1\n",
              "2999    1\n",
              "Name: label, Length: 3000, dtype: int64"
            ]
          },
          "metadata": {},
          "execution_count": 4
        }
      ]
    },
    {
      "cell_type": "code",
      "source": [
        "#creating labelEncoder\n",
        "le = preprocessing.LabelEncoder()\n",
        "\n",
        "Email_encoded = le.fit_transform(df.email)\n",
        "label_encoded = le.fit_transform(df.label)\n",
        "print(\"Email:\",Email_encoded)\n",
        "print(\"Label:\",label_encoded)"
      ],
      "metadata": {
        "colab": {
          "base_uri": "https://localhost:8080/"
        },
        "id": "Wn1EQnleG2lk",
        "outputId": "62f2d6a3-ec6d-4bfe-f020-98b80b14f829"
      },
      "execution_count": null,
      "outputs": [
        {
          "output_type": "stream",
          "name": "stdout",
          "text": [
            "Email: [ 226 1529 1522 ...  788  798  404]\n",
            "Label: [0 0 0 ... 1 1 1]\n"
          ]
        }
      ]
    },
    {
      "cell_type": "code",
      "source": [
        "X_train,X_test,y_train,y_test=train_test_split(Email_encoded,label_encoded,test_size=0.30,random_state=2)\n",
        "print(\"X_train:\",X_train)\n",
        "print(\"Y_train:\",y_train)\n",
        "print(\"X_test:\",X_test)\n",
        "print(\"Y_test:\",y_test)"
      ],
      "metadata": {
        "colab": {
          "base_uri": "https://localhost:8080/"
        },
        "id": "WjBqeokDND88",
        "outputId": "e01d95c9-131d-4b79-9a19-690766dabf54"
      },
      "execution_count": null,
      "outputs": [
        {
          "output_type": "stream",
          "name": "stdout",
          "text": [
            "X_train: [2335 2790  358 ... 1135  444 1085]\n",
            "Y_train: [0 0 0 ... 0 1 1]\n",
            "X_test: [1955   44 1460  910 1744 1355 1226 1167 1745 1990 2122  412  650 1393\n",
            " 2282 1295 2780  262 2248 2401 1243 2644 1040  289  643  222  762 2062\n",
            " 1066   55 1914  804 1696  403 2422 1880 1015  977  167 2253 1116 1294\n",
            "  944  349 2341 1732 1077 1183  688 1371 2742 2582  789 1341  163  852\n",
            " 1442 1373  785 1217  962 1768 2281 2370  248 1388 1891 1666 2066 1428\n",
            " 1491 2504   29 2342 2606 2379  132  371 2513 1477 1713 2852 1569    3\n",
            " 2047 1455 1715 1354  792 2866 2521 2690  757 1325  864  926 1212   78\n",
            "  271  318  257  124  521 2150 2510  665 1795  658 2464  491 1759 1344\n",
            "  740  858 1245 1190 2284 2226 1474 1905  576 1001 2580 1926 2393 2124\n",
            " 2338  223 1909 2854 1636 1045 2142 1182  205 1859 2179 1671 2068 2493\n",
            "  642 1374 1049 1176  802 1434 2858  725 2085  142 2265  321  671 2807\n",
            " 2376 2169 1544 2589 2045 1407    6 1457 2729 2100 1816  885 1583 2223\n",
            "  182 1982   67 2775  252  845 2838 1592 1770 1585  768 1140  994 2084\n",
            " 1904 1992 2812 1572 2588 2230 2626  241 1105  184  805  990 1980 2297\n",
            " 1782 2011  430 1877 2504  336 1688 1873 1318 2427  215 1508 1427 2713\n",
            " 2546 1495 1756  129  606 2278 2321 1210 1611 1408  133 2138  626 1076\n",
            " 2266 2654 1005  916 1771  325  173 1453 1345 1563  448 1667 2114 1117\n",
            " 2517   46   35  701 1030 1697  227 1556  400  231 2539 2344  941 1721\n",
            " 2146 1019  778 1566 2247 1737 1195   43 1141  120  166 1013  583 2502\n",
            "  510 1268 2387 2851 2770  599   15  240 1520 1473 2509 2593 2485 1452\n",
            "  332 1738  430  604   11 1281  900 2032 1129 1555  932 2443 2809  644\n",
            " 1797 1799 1387 1376 2264 2152 1664 2561  118 2477 1887 1130  461  501\n",
            "  912 1171 1398 1657 1516  419  532  224  275 2399 1022 2551 1760 2435\n",
            " 1598 2665 2471 2421 2528 1741 1618 2845 1074  937   81 1057 1774 1240\n",
            " 1261 1614 2157  605  414 2475 2069 1282  270  466 1342  633 1225 2674\n",
            " 1476  482 2105   98 2333 2542  894 2238 1351 1382 2161 1694 2147  882\n",
            " 1233  947 1085  202  660 2808 2159 2171  507  474  984 2589  751 1895\n",
            " 2578 2013 1006  225 2413  339 2840 2073  337  351 2380 1362 1987 2779\n",
            "  169 2425 1202   40 1723 2779  677  185  520  982  330 1959  967 2220\n",
            " 2536 1350 1633  134 2309   95  930  867 1840 1660 2760 1547 2419  569\n",
            "  375 2286 1375  189 1392  568 1850 1969 2036  905 2447  689  389 2104\n",
            " 1361 2522  286 2193  775 1500 2772  904 2441  964  539  164 1228 1124\n",
            " 2573  212  415 1070  755 1203  122 1683  814 2316 2144 2360 1329 2291\n",
            " 2495 1192  747 2829  687 2620 2692 1065   64 1773  917  969 1517  261\n",
            " 2820 2366 1998  929 1962  394 2306  204  950 2655 2383 2733 1055 2601\n",
            "  254 2126 1574 1920 2334 1270 1118 2235  135  951  174 2462  655  108\n",
            " 1949  760  759 2143 1536  281 1620 1137  565 2303  893  582  110 1965\n",
            " 2469 2677 1803 1754  310 2487 2397 2454 2556 2463 2310 1113   69 1785\n",
            "  810  680 2270 2257 2314 1571  144 2521 2306  826 1464 1565 2756 1406\n",
            " 2684 1244 2734  912 2363 1755 2795 2000 2020 2237 2302 1975 2413  440\n",
            " 1309 2433 2746 1607 1193  460  661 1893 1757 2202 2693  549 2548 1823\n",
            " 1809 2065 1841 1091   52 1883 2367 1401 1209  708 1900  972  833  430\n",
            "  790 2405 2404 1412   26 2660 2110 2480   18 1947 2097  940 2583 2081\n",
            " 1654  615 1916 2371  562 2572 1852 1886 1197  846  232 1164  830  109\n",
            " 2080  803  479  276 1851  260  554 2162 1239  219 1971  304 2288  998\n",
            "  873  646 1221  609 2450 1222 2566 2361 1299  736  614 1983 1416   36\n",
            "  369 1584  625  872  598 2818 1762 1838 1339 1612 2768  464 1552 1518\n",
            " 2231 2204 1834 1106 2408  442 2046   73 1784  473 1394 2715  249 2864\n",
            " 1085 1423 2682 2298 1051 2358 1079  426 2064 1204 1147 1819  385  384\n",
            " 2275  701 2118 1016  839  645  823  274 1559 2773 1750  366  754 1517\n",
            " 1521 1634 1551 1991 1777  522 2035 2521  206 1122 1649 2837 1492 2702\n",
            " 2034 1061 1985 2503  692 1155  737  772 2311 2148 2182  347  580 1173\n",
            " 1060 1140   75  715 1077  433  408 1025 1348   61  829 1439  453 2096\n",
            " 1892 2442 2434 1844 1616 2478   91  593 2823 2268 2098 1570 2553  987\n",
            "  799 1804  536 2461 2319 2726 1837  813 1340 1872 1599 2176 1207 2391\n",
            " 1205 2306 1861 2368   22    9 2748  538 1716  914 2216 2012 2188 1976\n",
            " 1306 1178 2643  843 2293  230 1269 1936 2483 1227 2137  471 1497 1783\n",
            " 2870 1938 2550 1743  334 1467 1505  299 2325  744 1662  368 2181  983\n",
            " 2232 2862 2611 1384 2668 1446 2212 2595 1432  191 2101 1415  196  911\n",
            " 2632 2088  383  721  263 1896 1280 1504 2351 2735  484  377 1879 2465\n",
            "  837  623 1059  516   82  795  290 2086 1111  268 1821 1314  669 1528\n",
            " 1252  918 2647 1092  342 2767 1002 1335 1382  784  113 2755 2191 1702\n",
            "  874 1724 2030 2280 1888  455 1219 2356  895 1048 1686 2099  100 1781\n",
            " 1014  608 2200  836  490 2318   93  685  315  251 2479  691 2246 2804\n",
            " 2599 2811 2120 1264]\n",
            "Y_test: [0 0 0 1 0 0 1 0 0 1 0 0 0 0 0 0 0 1 0 0 1 0 0 0 0 0 1 0 0 0 0 1 0 1 0 0 0\n",
            " 0 1 0 0 0 0 0 0 0 1 1 0 0 0 0 0 0 0 0 0 0 1 0 0 0 0 0 1 0 0 0 1 0 0 0 0 0\n",
            " 0 0 1 1 0 0 0 0 0 1 0 0 0 0 0 0 0 0 0 0 1 1 0 0 1 0 0 1 0 1 0 0 0 0 0 0 0\n",
            " 0 0 1 0 0 0 0 0 0 0 1 0 0 0 0 0 0 0 0 0 1 0 0 0 0 0 0 1 0 0 0 0 0 1 0 0 1\n",
            " 0 0 0 0 0 0 0 0 0 0 0 0 1 1 0 0 0 0 0 0 0 1 0 0 1 0 0 0 0 0 0 1 0 0 0 1 0\n",
            " 0 0 0 0 1 0 1 0 0 0 0 0 1 1 0 0 0 0 0 0 0 0 1 0 0 0 0 0 0 0 0 0 0 0 0 0 0\n",
            " 0 1 0 0 1 1 0 1 0 0 0 1 1 0 0 1 0 0 0 1 0 0 0 0 0 1 0 0 0 0 0 0 0 0 0 0 0\n",
            " 0 0 1 0 0 1 0 0 1 0 1 0 0 0 1 0 0 0 0 0 0 0 0 1 0 0 0 0 0 0 0 1 0 0 0 0 0\n",
            " 1 0 0 0 0 0 0 0 0 0 1 0 1 0 0 0 1 0 0 0 0 0 0 0 0 0 1 0 0 0 0 0 0 0 1 0 0\n",
            " 1 0 0 0 0 0 0 0 0 0 0 1 1 0 0 1 0 0 0 0 0 0 0 0 0 0 0 0 0 1 0 0 0 1 0 0 0\n",
            " 0 0 0 0 0 0 0 0 0 1 1 0 0 0 1 0 0 0 0 0 0 0 0 0 0 0 0 0 0 1 0 0 0 0 0 0 0\n",
            " 0 0 0 0 0 0 1 0 0 0 0 0 0 0 0 0 0 0 0 0 1 1 0 0 0 0 0 0 0 0 0 1 0 0 1 0 0\n",
            " 0 0 1 0 0 0 0 0 0 1 1 0 1 0 0 0 0 0 0 0 1 0 0 0 0 0 0 0 1 0 1 1 1 0 0 1 0\n",
            " 0 0 0 0 0 0 0 0 0 0 0 1 0 0 0 0 0 0 0 0 0 0 0 0 0 0 0 0 0 0 0 0 0 1 0 0 1\n",
            " 0 0 0 0 0 0 0 0 0 0 0 0 0 0 0 0 0 0 0 1 0 0 0 0 0 1 0 0 0 0 0 1 0 0 0 0 0\n",
            " 0 0 1 0 1 1 0 0 0 0 1 0 0 0 0 0 0 0 0 0 0 0 1 0 0 0 0 0 0 0 0 0 1 0 0 0 0\n",
            " 0 0 1 0 0 0 0 0 0 0 0 0 0 0 0 0 0 0 0 0 1 1 0 0 0 1 0 1 0 1 0 0 0 0 0 1 0\n",
            " 0 0 0 0 0 0 1 0 0 1 0 0 0 1 0 1 0 1 0 0 1 0 0 0 0 0 1 1 0 0 0 0 1 0 1 0 0\n",
            " 0 1 0 0 1 1 1 0 0 0 0 0 1 1 0 0 0 0 0 0 0 1 0 0 0 0 1 0 0 0 0 0 0 1 0 0 1\n",
            " 1 0 1 0 0 0 0 0 0 0 0 0 0 0 0 0 0 0 0 0 1 0 0 0 0 0 1 0 1 1 1 0 0 0 0 0 1\n",
            " 1 0 0 0 0 0 0 0 0 0 1 0 0 0 0 0 0 0 0 0 0 0 0 1 0 0 0 0 0 0 0 0 0 0 0 1 0\n",
            " 0 0 0 0 0 1 0 0 0 0 0 0 0 1 0 0 1 0 1 0 0 0 0 0 0 0 0 0 1 0 1 0 0 0 0 0 0\n",
            " 0 0 0 1 0 0 0 0 0 0 1 1 0 0 0 0 0 0 0 0 0 0 0 0 0 0 0 0 0 0 0 1 0 0 0 0 0\n",
            " 0 0 1 0 1 0 1 0 0 1 0 0 1 0 0 0 0 0 0 0 0 0 1 1 0 1 0 0 0 0 0 1 0 0 0 0 0\n",
            " 1 0 0 1 0 0 0 0 0 0 0 0]\n"
          ]
        }
      ]
    },
    {
      "cell_type": "code",
      "source": [
        "#Create a Gaussian Classifier\n",
        "model = GaussianNB()"
      ],
      "metadata": {
        "id": "eYBl2C6kPPAJ"
      },
      "execution_count": null,
      "outputs": []
    },
    {
      "cell_type": "code",
      "source": [
        "X_train = X_train.reshape(-1,1)\n",
        "X_test = X_test.reshape(-1,1) "
      ],
      "metadata": {
        "id": "ymGqdLz5PY1D"
      },
      "execution_count": null,
      "outputs": []
    },
    {
      "cell_type": "code",
      "source": [
        "# Train the model using the training sets\n",
        "model.fit(X_train,y_train)"
      ],
      "metadata": {
        "colab": {
          "base_uri": "https://localhost:8080/",
          "height": 75
        },
        "id": "XW65zIiKOnUk",
        "outputId": "cf0dfc6e-a72b-4ff0-fc1b-fca41ce212e2"
      },
      "execution_count": null,
      "outputs": [
        {
          "output_type": "execute_result",
          "data": {
            "text/plain": [
              "GaussianNB()"
            ],
            "text/html": [
              "<style>#sk-container-id-1 {color: black;background-color: white;}#sk-container-id-1 pre{padding: 0;}#sk-container-id-1 div.sk-toggleable {background-color: white;}#sk-container-id-1 label.sk-toggleable__label {cursor: pointer;display: block;width: 100%;margin-bottom: 0;padding: 0.3em;box-sizing: border-box;text-align: center;}#sk-container-id-1 label.sk-toggleable__label-arrow:before {content: \"▸\";float: left;margin-right: 0.25em;color: #696969;}#sk-container-id-1 label.sk-toggleable__label-arrow:hover:before {color: black;}#sk-container-id-1 div.sk-estimator:hover label.sk-toggleable__label-arrow:before {color: black;}#sk-container-id-1 div.sk-toggleable__content {max-height: 0;max-width: 0;overflow: hidden;text-align: left;background-color: #f0f8ff;}#sk-container-id-1 div.sk-toggleable__content pre {margin: 0.2em;color: black;border-radius: 0.25em;background-color: #f0f8ff;}#sk-container-id-1 input.sk-toggleable__control:checked~div.sk-toggleable__content {max-height: 200px;max-width: 100%;overflow: auto;}#sk-container-id-1 input.sk-toggleable__control:checked~label.sk-toggleable__label-arrow:before {content: \"▾\";}#sk-container-id-1 div.sk-estimator input.sk-toggleable__control:checked~label.sk-toggleable__label {background-color: #d4ebff;}#sk-container-id-1 div.sk-label input.sk-toggleable__control:checked~label.sk-toggleable__label {background-color: #d4ebff;}#sk-container-id-1 input.sk-hidden--visually {border: 0;clip: rect(1px 1px 1px 1px);clip: rect(1px, 1px, 1px, 1px);height: 1px;margin: -1px;overflow: hidden;padding: 0;position: absolute;width: 1px;}#sk-container-id-1 div.sk-estimator {font-family: monospace;background-color: #f0f8ff;border: 1px dotted black;border-radius: 0.25em;box-sizing: border-box;margin-bottom: 0.5em;}#sk-container-id-1 div.sk-estimator:hover {background-color: #d4ebff;}#sk-container-id-1 div.sk-parallel-item::after {content: \"\";width: 100%;border-bottom: 1px solid gray;flex-grow: 1;}#sk-container-id-1 div.sk-label:hover label.sk-toggleable__label {background-color: #d4ebff;}#sk-container-id-1 div.sk-serial::before {content: \"\";position: absolute;border-left: 1px solid gray;box-sizing: border-box;top: 0;bottom: 0;left: 50%;z-index: 0;}#sk-container-id-1 div.sk-serial {display: flex;flex-direction: column;align-items: center;background-color: white;padding-right: 0.2em;padding-left: 0.2em;position: relative;}#sk-container-id-1 div.sk-item {position: relative;z-index: 1;}#sk-container-id-1 div.sk-parallel {display: flex;align-items: stretch;justify-content: center;background-color: white;position: relative;}#sk-container-id-1 div.sk-item::before, #sk-container-id-1 div.sk-parallel-item::before {content: \"\";position: absolute;border-left: 1px solid gray;box-sizing: border-box;top: 0;bottom: 0;left: 50%;z-index: -1;}#sk-container-id-1 div.sk-parallel-item {display: flex;flex-direction: column;z-index: 1;position: relative;background-color: white;}#sk-container-id-1 div.sk-parallel-item:first-child::after {align-self: flex-end;width: 50%;}#sk-container-id-1 div.sk-parallel-item:last-child::after {align-self: flex-start;width: 50%;}#sk-container-id-1 div.sk-parallel-item:only-child::after {width: 0;}#sk-container-id-1 div.sk-dashed-wrapped {border: 1px dashed gray;margin: 0 0.4em 0.5em 0.4em;box-sizing: border-box;padding-bottom: 0.4em;background-color: white;}#sk-container-id-1 div.sk-label label {font-family: monospace;font-weight: bold;display: inline-block;line-height: 1.2em;}#sk-container-id-1 div.sk-label-container {text-align: center;}#sk-container-id-1 div.sk-container {/* jupyter's `normalize.less` sets `[hidden] { display: none; }` but bootstrap.min.css set `[hidden] { display: none !important; }` so we also need the `!important` here to be able to override the default hidden behavior on the sphinx rendered scikit-learn.org. See: https://github.com/scikit-learn/scikit-learn/issues/21755 */display: inline-block !important;position: relative;}#sk-container-id-1 div.sk-text-repr-fallback {display: none;}</style><div id=\"sk-container-id-1\" class=\"sk-top-container\"><div class=\"sk-text-repr-fallback\"><pre>GaussianNB()</pre><b>In a Jupyter environment, please rerun this cell to show the HTML representation or trust the notebook. <br />On GitHub, the HTML representation is unable to render, please try loading this page with nbviewer.org.</b></div><div class=\"sk-container\" hidden><div class=\"sk-item\"><div class=\"sk-estimator sk-toggleable\"><input class=\"sk-toggleable__control sk-hidden--visually\" id=\"sk-estimator-id-1\" type=\"checkbox\" checked><label for=\"sk-estimator-id-1\" class=\"sk-toggleable__label sk-toggleable__label-arrow\">GaussianNB</label><div class=\"sk-toggleable__content\"><pre>GaussianNB()</pre></div></div></div></div></div>"
            ]
          },
          "metadata": {},
          "execution_count": 17
        }
      ]
    },
    {
      "cell_type": "code",
      "source": [
        "#Predict Output\n",
        "y_pred = model.predict(X_test)"
      ],
      "metadata": {
        "id": "B-gZvew3Pqlj"
      },
      "execution_count": null,
      "outputs": []
    },
    {
      "cell_type": "code",
      "source": [
        "print(classification_report(y_test, y_pred))\n",
        "print(confusion_matrix(y_test, y_pred))\n",
        "#print([2,0,2,0])"
      ],
      "metadata": {
        "colab": {
          "base_uri": "https://localhost:8080/"
        },
        "id": "gbF5yeT_QZQB",
        "outputId": "1157e0d9-8c36-4a70-96b0-7334775f8db2"
      },
      "execution_count": null,
      "outputs": [
        {
          "output_type": "stream",
          "name": "stdout",
          "text": [
            "              precision    recall  f1-score   support\n",
            "\n",
            "           0       0.82      1.00      0.90       742\n",
            "           1       0.00      0.00      0.00       158\n",
            "\n",
            "    accuracy                           0.82       900\n",
            "   macro avg       0.41      0.50      0.45       900\n",
            "weighted avg       0.68      0.82      0.75       900\n",
            "\n",
            "[[742   0]\n",
            " [158   0]]\n"
          ]
        },
        {
          "output_type": "stream",
          "name": "stderr",
          "text": [
            "/usr/local/lib/python3.9/dist-packages/sklearn/metrics/_classification.py:1344: UndefinedMetricWarning: Precision and F-score are ill-defined and being set to 0.0 in labels with no predicted samples. Use `zero_division` parameter to control this behavior.\n",
            "  _warn_prf(average, modifier, msg_start, len(result))\n",
            "/usr/local/lib/python3.9/dist-packages/sklearn/metrics/_classification.py:1344: UndefinedMetricWarning: Precision and F-score are ill-defined and being set to 0.0 in labels with no predicted samples. Use `zero_division` parameter to control this behavior.\n",
            "  _warn_prf(average, modifier, msg_start, len(result))\n",
            "/usr/local/lib/python3.9/dist-packages/sklearn/metrics/_classification.py:1344: UndefinedMetricWarning: Precision and F-score are ill-defined and being set to 0.0 in labels with no predicted samples. Use `zero_division` parameter to control this behavior.\n",
            "  _warn_prf(average, modifier, msg_start, len(result))\n"
          ]
        }
      ]
    },
    {
      "cell_type": "markdown",
      "source": [
        "**Lab 5 - Digit recognition using MNIST dataset**"
      ],
      "metadata": {
        "id": "HGkT1sMwXBNR"
      }
    },
    {
      "cell_type": "code",
      "source": [
        "import pandas as pd\n",
        "import numpy as np\n",
        "\n",
        "import seaborn as sns\n",
        "\n",
        "import matplotlib.pyplot as plt\n",
        "%matplotlib inline\n",
        "\n",
        "import tensorflow as tf\n",
        "\n",
        "from tensorflow.keras import layers\n",
        "from tensorflow.keras.models import Model\n",
        "from tensorflow.keras import metrics\n",
        "from tensorflow.keras import backend as K"
      ],
      "metadata": {
        "id": "weeP_YSaMnFl"
      },
      "execution_count": null,
      "outputs": []
    },
    {
      "cell_type": "code",
      "source": [
        "# Reading the Train and Test Datasets.\n",
        "mnist_train = pd.read_csv(\"/content/train/mnist_train.csv\")\n",
        "mnist_test = pd.read_csv(\"/content/train/mnist_test.csv\")"
      ],
      "metadata": {
        "id": "1NrK3seYNI_w"
      },
      "execution_count": null,
      "outputs": []
    },
    {
      "cell_type": "code",
      "source": [
        "# Let's see the shape of the train and test data\n",
        "print(mnist_train.shape, mnist_test.shape)\n"
      ],
      "metadata": {
        "colab": {
          "base_uri": "https://localhost:8080/"
        },
        "id": "IBYSAvF3Nb83",
        "outputId": "c6edc87e-b4ee-4481-f0b9-c63ba3d99e49"
      },
      "execution_count": null,
      "outputs": [
        {
          "output_type": "stream",
          "name": "stdout",
          "text": [
            "(60000, 785) (10000, 785)\n"
          ]
        }
      ]
    },
    {
      "cell_type": "code",
      "source": [
        "# Looking at a few rows.\n",
        "mnist_train.head()"
      ],
      "metadata": {
        "colab": {
          "base_uri": "https://localhost:8080/",
          "height": 236
        },
        "id": "dZz0FmPsNj_Z",
        "outputId": "de66e0e9-5e04-40b6-fa98-3672518369df"
      },
      "execution_count": null,
      "outputs": [
        {
          "output_type": "execute_result",
          "data": {
            "text/plain": [
              "   label  1x1  1x2  1x3  1x4  1x5  1x6  1x7  1x8  1x9  ...  28x19  28x20  \\\n",
              "0      5    0    0    0    0    0    0    0    0    0  ...      0      0   \n",
              "1      0    0    0    0    0    0    0    0    0    0  ...      0      0   \n",
              "2      4    0    0    0    0    0    0    0    0    0  ...      0      0   \n",
              "3      1    0    0    0    0    0    0    0    0    0  ...      0      0   \n",
              "4      9    0    0    0    0    0    0    0    0    0  ...      0      0   \n",
              "\n",
              "   28x21  28x22  28x23  28x24  28x25  28x26  28x27  28x28  \n",
              "0      0      0      0      0      0      0      0      0  \n",
              "1      0      0      0      0      0      0      0      0  \n",
              "2      0      0      0      0      0      0      0      0  \n",
              "3      0      0      0      0      0      0      0      0  \n",
              "4      0      0      0      0      0      0      0      0  \n",
              "\n",
              "[5 rows x 785 columns]"
            ],
            "text/html": [
              "\n",
              "  <div id=\"df-cb927b12-5a58-45f5-8b43-cf066e57102d\">\n",
              "    <div class=\"colab-df-container\">\n",
              "      <div>\n",
              "<style scoped>\n",
              "    .dataframe tbody tr th:only-of-type {\n",
              "        vertical-align: middle;\n",
              "    }\n",
              "\n",
              "    .dataframe tbody tr th {\n",
              "        vertical-align: top;\n",
              "    }\n",
              "\n",
              "    .dataframe thead th {\n",
              "        text-align: right;\n",
              "    }\n",
              "</style>\n",
              "<table border=\"1\" class=\"dataframe\">\n",
              "  <thead>\n",
              "    <tr style=\"text-align: right;\">\n",
              "      <th></th>\n",
              "      <th>label</th>\n",
              "      <th>1x1</th>\n",
              "      <th>1x2</th>\n",
              "      <th>1x3</th>\n",
              "      <th>1x4</th>\n",
              "      <th>1x5</th>\n",
              "      <th>1x6</th>\n",
              "      <th>1x7</th>\n",
              "      <th>1x8</th>\n",
              "      <th>1x9</th>\n",
              "      <th>...</th>\n",
              "      <th>28x19</th>\n",
              "      <th>28x20</th>\n",
              "      <th>28x21</th>\n",
              "      <th>28x22</th>\n",
              "      <th>28x23</th>\n",
              "      <th>28x24</th>\n",
              "      <th>28x25</th>\n",
              "      <th>28x26</th>\n",
              "      <th>28x27</th>\n",
              "      <th>28x28</th>\n",
              "    </tr>\n",
              "  </thead>\n",
              "  <tbody>\n",
              "    <tr>\n",
              "      <th>0</th>\n",
              "      <td>5</td>\n",
              "      <td>0</td>\n",
              "      <td>0</td>\n",
              "      <td>0</td>\n",
              "      <td>0</td>\n",
              "      <td>0</td>\n",
              "      <td>0</td>\n",
              "      <td>0</td>\n",
              "      <td>0</td>\n",
              "      <td>0</td>\n",
              "      <td>...</td>\n",
              "      <td>0</td>\n",
              "      <td>0</td>\n",
              "      <td>0</td>\n",
              "      <td>0</td>\n",
              "      <td>0</td>\n",
              "      <td>0</td>\n",
              "      <td>0</td>\n",
              "      <td>0</td>\n",
              "      <td>0</td>\n",
              "      <td>0</td>\n",
              "    </tr>\n",
              "    <tr>\n",
              "      <th>1</th>\n",
              "      <td>0</td>\n",
              "      <td>0</td>\n",
              "      <td>0</td>\n",
              "      <td>0</td>\n",
              "      <td>0</td>\n",
              "      <td>0</td>\n",
              "      <td>0</td>\n",
              "      <td>0</td>\n",
              "      <td>0</td>\n",
              "      <td>0</td>\n",
              "      <td>...</td>\n",
              "      <td>0</td>\n",
              "      <td>0</td>\n",
              "      <td>0</td>\n",
              "      <td>0</td>\n",
              "      <td>0</td>\n",
              "      <td>0</td>\n",
              "      <td>0</td>\n",
              "      <td>0</td>\n",
              "      <td>0</td>\n",
              "      <td>0</td>\n",
              "    </tr>\n",
              "    <tr>\n",
              "      <th>2</th>\n",
              "      <td>4</td>\n",
              "      <td>0</td>\n",
              "      <td>0</td>\n",
              "      <td>0</td>\n",
              "      <td>0</td>\n",
              "      <td>0</td>\n",
              "      <td>0</td>\n",
              "      <td>0</td>\n",
              "      <td>0</td>\n",
              "      <td>0</td>\n",
              "      <td>...</td>\n",
              "      <td>0</td>\n",
              "      <td>0</td>\n",
              "      <td>0</td>\n",
              "      <td>0</td>\n",
              "      <td>0</td>\n",
              "      <td>0</td>\n",
              "      <td>0</td>\n",
              "      <td>0</td>\n",
              "      <td>0</td>\n",
              "      <td>0</td>\n",
              "    </tr>\n",
              "    <tr>\n",
              "      <th>3</th>\n",
              "      <td>1</td>\n",
              "      <td>0</td>\n",
              "      <td>0</td>\n",
              "      <td>0</td>\n",
              "      <td>0</td>\n",
              "      <td>0</td>\n",
              "      <td>0</td>\n",
              "      <td>0</td>\n",
              "      <td>0</td>\n",
              "      <td>0</td>\n",
              "      <td>...</td>\n",
              "      <td>0</td>\n",
              "      <td>0</td>\n",
              "      <td>0</td>\n",
              "      <td>0</td>\n",
              "      <td>0</td>\n",
              "      <td>0</td>\n",
              "      <td>0</td>\n",
              "      <td>0</td>\n",
              "      <td>0</td>\n",
              "      <td>0</td>\n",
              "    </tr>\n",
              "    <tr>\n",
              "      <th>4</th>\n",
              "      <td>9</td>\n",
              "      <td>0</td>\n",
              "      <td>0</td>\n",
              "      <td>0</td>\n",
              "      <td>0</td>\n",
              "      <td>0</td>\n",
              "      <td>0</td>\n",
              "      <td>0</td>\n",
              "      <td>0</td>\n",
              "      <td>0</td>\n",
              "      <td>...</td>\n",
              "      <td>0</td>\n",
              "      <td>0</td>\n",
              "      <td>0</td>\n",
              "      <td>0</td>\n",
              "      <td>0</td>\n",
              "      <td>0</td>\n",
              "      <td>0</td>\n",
              "      <td>0</td>\n",
              "      <td>0</td>\n",
              "      <td>0</td>\n",
              "    </tr>\n",
              "  </tbody>\n",
              "</table>\n",
              "<p>5 rows × 785 columns</p>\n",
              "</div>\n",
              "      <button class=\"colab-df-convert\" onclick=\"convertToInteractive('df-cb927b12-5a58-45f5-8b43-cf066e57102d')\"\n",
              "              title=\"Convert this dataframe to an interactive table.\"\n",
              "              style=\"display:none;\">\n",
              "        \n",
              "  <svg xmlns=\"http://www.w3.org/2000/svg\" height=\"24px\"viewBox=\"0 0 24 24\"\n",
              "       width=\"24px\">\n",
              "    <path d=\"M0 0h24v24H0V0z\" fill=\"none\"/>\n",
              "    <path d=\"M18.56 5.44l.94 2.06.94-2.06 2.06-.94-2.06-.94-.94-2.06-.94 2.06-2.06.94zm-11 1L8.5 8.5l.94-2.06 2.06-.94-2.06-.94L8.5 2.5l-.94 2.06-2.06.94zm10 10l.94 2.06.94-2.06 2.06-.94-2.06-.94-.94-2.06-.94 2.06-2.06.94z\"/><path d=\"M17.41 7.96l-1.37-1.37c-.4-.4-.92-.59-1.43-.59-.52 0-1.04.2-1.43.59L10.3 9.45l-7.72 7.72c-.78.78-.78 2.05 0 2.83L4 21.41c.39.39.9.59 1.41.59.51 0 1.02-.2 1.41-.59l7.78-7.78 2.81-2.81c.8-.78.8-2.07 0-2.86zM5.41 20L4 18.59l7.72-7.72 1.47 1.35L5.41 20z\"/>\n",
              "  </svg>\n",
              "      </button>\n",
              "      \n",
              "  <style>\n",
              "    .colab-df-container {\n",
              "      display:flex;\n",
              "      flex-wrap:wrap;\n",
              "      gap: 12px;\n",
              "    }\n",
              "\n",
              "    .colab-df-convert {\n",
              "      background-color: #E8F0FE;\n",
              "      border: none;\n",
              "      border-radius: 50%;\n",
              "      cursor: pointer;\n",
              "      display: none;\n",
              "      fill: #1967D2;\n",
              "      height: 32px;\n",
              "      padding: 0 0 0 0;\n",
              "      width: 32px;\n",
              "    }\n",
              "\n",
              "    .colab-df-convert:hover {\n",
              "      background-color: #E2EBFA;\n",
              "      box-shadow: 0px 1px 2px rgba(60, 64, 67, 0.3), 0px 1px 3px 1px rgba(60, 64, 67, 0.15);\n",
              "      fill: #174EA6;\n",
              "    }\n",
              "\n",
              "    [theme=dark] .colab-df-convert {\n",
              "      background-color: #3B4455;\n",
              "      fill: #D2E3FC;\n",
              "    }\n",
              "\n",
              "    [theme=dark] .colab-df-convert:hover {\n",
              "      background-color: #434B5C;\n",
              "      box-shadow: 0px 1px 3px 1px rgba(0, 0, 0, 0.15);\n",
              "      filter: drop-shadow(0px 1px 2px rgba(0, 0, 0, 0.3));\n",
              "      fill: #FFFFFF;\n",
              "    }\n",
              "  </style>\n",
              "\n",
              "      <script>\n",
              "        const buttonEl =\n",
              "          document.querySelector('#df-cb927b12-5a58-45f5-8b43-cf066e57102d button.colab-df-convert');\n",
              "        buttonEl.style.display =\n",
              "          google.colab.kernel.accessAllowed ? 'block' : 'none';\n",
              "\n",
              "        async function convertToInteractive(key) {\n",
              "          const element = document.querySelector('#df-cb927b12-5a58-45f5-8b43-cf066e57102d');\n",
              "          const dataTable =\n",
              "            await google.colab.kernel.invokeFunction('convertToInteractive',\n",
              "                                                     [key], {});\n",
              "          if (!dataTable) return;\n",
              "\n",
              "          const docLinkHtml = 'Like what you see? Visit the ' +\n",
              "            '<a target=\"_blank\" href=https://colab.research.google.com/notebooks/data_table.ipynb>data table notebook</a>'\n",
              "            + ' to learn more about interactive tables.';\n",
              "          element.innerHTML = '';\n",
              "          dataTable['output_type'] = 'display_data';\n",
              "          await google.colab.output.renderOutput(dataTable, element);\n",
              "          const docLink = document.createElement('div');\n",
              "          docLink.innerHTML = docLinkHtml;\n",
              "          element.appendChild(docLink);\n",
              "        }\n",
              "      </script>\n",
              "    </div>\n",
              "  </div>\n",
              "  "
            ]
          },
          "metadata": {},
          "execution_count": 11
        }
      ]
    },
    {
      "cell_type": "code",
      "source": [
        "# The basic statistical insights of the numerical features of train data.\n",
        "mnist_train.describe()"
      ],
      "metadata": {
        "colab": {
          "base_uri": "https://localhost:8080/",
          "height": 394
        },
        "id": "Sf_yzMF7No1i",
        "outputId": "f94ef065-954d-42d3-dde8-5e65be6a0520"
      },
      "execution_count": null,
      "outputs": [
        {
          "output_type": "execute_result",
          "data": {
            "text/plain": [
              "              label      1x1      1x2      1x3      1x4      1x5      1x6  \\\n",
              "count  60000.000000  60000.0  60000.0  60000.0  60000.0  60000.0  60000.0   \n",
              "mean       4.453933      0.0      0.0      0.0      0.0      0.0      0.0   \n",
              "std        2.889270      0.0      0.0      0.0      0.0      0.0      0.0   \n",
              "min        0.000000      0.0      0.0      0.0      0.0      0.0      0.0   \n",
              "25%        2.000000      0.0      0.0      0.0      0.0      0.0      0.0   \n",
              "50%        4.000000      0.0      0.0      0.0      0.0      0.0      0.0   \n",
              "75%        7.000000      0.0      0.0      0.0      0.0      0.0      0.0   \n",
              "max        9.000000      0.0      0.0      0.0      0.0      0.0      0.0   \n",
              "\n",
              "           1x7      1x8      1x9  ...         28x19         28x20  \\\n",
              "count  60000.0  60000.0  60000.0  ...  60000.000000  60000.000000   \n",
              "mean       0.0      0.0      0.0  ...      0.200433      0.088867   \n",
              "std        0.0      0.0      0.0  ...      6.042472      3.956189   \n",
              "min        0.0      0.0      0.0  ...      0.000000      0.000000   \n",
              "25%        0.0      0.0      0.0  ...      0.000000      0.000000   \n",
              "50%        0.0      0.0      0.0  ...      0.000000      0.000000   \n",
              "75%        0.0      0.0      0.0  ...      0.000000      0.000000   \n",
              "max        0.0      0.0      0.0  ...    254.000000    254.000000   \n",
              "\n",
              "              28x21         28x22         28x23       28x24    28x25    28x26  \\\n",
              "count  60000.000000  60000.000000  60000.000000  60000.0000  60000.0  60000.0   \n",
              "mean       0.045633      0.019283      0.015117      0.0020      0.0      0.0   \n",
              "std        2.839845      1.686770      1.678283      0.3466      0.0      0.0   \n",
              "min        0.000000      0.000000      0.000000      0.0000      0.0      0.0   \n",
              "25%        0.000000      0.000000      0.000000      0.0000      0.0      0.0   \n",
              "50%        0.000000      0.000000      0.000000      0.0000      0.0      0.0   \n",
              "75%        0.000000      0.000000      0.000000      0.0000      0.0      0.0   \n",
              "max      253.000000    253.000000    254.000000     62.0000      0.0      0.0   \n",
              "\n",
              "         28x27    28x28  \n",
              "count  60000.0  60000.0  \n",
              "mean       0.0      0.0  \n",
              "std        0.0      0.0  \n",
              "min        0.0      0.0  \n",
              "25%        0.0      0.0  \n",
              "50%        0.0      0.0  \n",
              "75%        0.0      0.0  \n",
              "max        0.0      0.0  \n",
              "\n",
              "[8 rows x 785 columns]"
            ],
            "text/html": [
              "\n",
              "  <div id=\"df-58ca7910-7e9a-450b-ab82-19d7712ef001\">\n",
              "    <div class=\"colab-df-container\">\n",
              "      <div>\n",
              "<style scoped>\n",
              "    .dataframe tbody tr th:only-of-type {\n",
              "        vertical-align: middle;\n",
              "    }\n",
              "\n",
              "    .dataframe tbody tr th {\n",
              "        vertical-align: top;\n",
              "    }\n",
              "\n",
              "    .dataframe thead th {\n",
              "        text-align: right;\n",
              "    }\n",
              "</style>\n",
              "<table border=\"1\" class=\"dataframe\">\n",
              "  <thead>\n",
              "    <tr style=\"text-align: right;\">\n",
              "      <th></th>\n",
              "      <th>label</th>\n",
              "      <th>1x1</th>\n",
              "      <th>1x2</th>\n",
              "      <th>1x3</th>\n",
              "      <th>1x4</th>\n",
              "      <th>1x5</th>\n",
              "      <th>1x6</th>\n",
              "      <th>1x7</th>\n",
              "      <th>1x8</th>\n",
              "      <th>1x9</th>\n",
              "      <th>...</th>\n",
              "      <th>28x19</th>\n",
              "      <th>28x20</th>\n",
              "      <th>28x21</th>\n",
              "      <th>28x22</th>\n",
              "      <th>28x23</th>\n",
              "      <th>28x24</th>\n",
              "      <th>28x25</th>\n",
              "      <th>28x26</th>\n",
              "      <th>28x27</th>\n",
              "      <th>28x28</th>\n",
              "    </tr>\n",
              "  </thead>\n",
              "  <tbody>\n",
              "    <tr>\n",
              "      <th>count</th>\n",
              "      <td>60000.000000</td>\n",
              "      <td>60000.0</td>\n",
              "      <td>60000.0</td>\n",
              "      <td>60000.0</td>\n",
              "      <td>60000.0</td>\n",
              "      <td>60000.0</td>\n",
              "      <td>60000.0</td>\n",
              "      <td>60000.0</td>\n",
              "      <td>60000.0</td>\n",
              "      <td>60000.0</td>\n",
              "      <td>...</td>\n",
              "      <td>60000.000000</td>\n",
              "      <td>60000.000000</td>\n",
              "      <td>60000.000000</td>\n",
              "      <td>60000.000000</td>\n",
              "      <td>60000.000000</td>\n",
              "      <td>60000.0000</td>\n",
              "      <td>60000.0</td>\n",
              "      <td>60000.0</td>\n",
              "      <td>60000.0</td>\n",
              "      <td>60000.0</td>\n",
              "    </tr>\n",
              "    <tr>\n",
              "      <th>mean</th>\n",
              "      <td>4.453933</td>\n",
              "      <td>0.0</td>\n",
              "      <td>0.0</td>\n",
              "      <td>0.0</td>\n",
              "      <td>0.0</td>\n",
              "      <td>0.0</td>\n",
              "      <td>0.0</td>\n",
              "      <td>0.0</td>\n",
              "      <td>0.0</td>\n",
              "      <td>0.0</td>\n",
              "      <td>...</td>\n",
              "      <td>0.200433</td>\n",
              "      <td>0.088867</td>\n",
              "      <td>0.045633</td>\n",
              "      <td>0.019283</td>\n",
              "      <td>0.015117</td>\n",
              "      <td>0.0020</td>\n",
              "      <td>0.0</td>\n",
              "      <td>0.0</td>\n",
              "      <td>0.0</td>\n",
              "      <td>0.0</td>\n",
              "    </tr>\n",
              "    <tr>\n",
              "      <th>std</th>\n",
              "      <td>2.889270</td>\n",
              "      <td>0.0</td>\n",
              "      <td>0.0</td>\n",
              "      <td>0.0</td>\n",
              "      <td>0.0</td>\n",
              "      <td>0.0</td>\n",
              "      <td>0.0</td>\n",
              "      <td>0.0</td>\n",
              "      <td>0.0</td>\n",
              "      <td>0.0</td>\n",
              "      <td>...</td>\n",
              "      <td>6.042472</td>\n",
              "      <td>3.956189</td>\n",
              "      <td>2.839845</td>\n",
              "      <td>1.686770</td>\n",
              "      <td>1.678283</td>\n",
              "      <td>0.3466</td>\n",
              "      <td>0.0</td>\n",
              "      <td>0.0</td>\n",
              "      <td>0.0</td>\n",
              "      <td>0.0</td>\n",
              "    </tr>\n",
              "    <tr>\n",
              "      <th>min</th>\n",
              "      <td>0.000000</td>\n",
              "      <td>0.0</td>\n",
              "      <td>0.0</td>\n",
              "      <td>0.0</td>\n",
              "      <td>0.0</td>\n",
              "      <td>0.0</td>\n",
              "      <td>0.0</td>\n",
              "      <td>0.0</td>\n",
              "      <td>0.0</td>\n",
              "      <td>0.0</td>\n",
              "      <td>...</td>\n",
              "      <td>0.000000</td>\n",
              "      <td>0.000000</td>\n",
              "      <td>0.000000</td>\n",
              "      <td>0.000000</td>\n",
              "      <td>0.000000</td>\n",
              "      <td>0.0000</td>\n",
              "      <td>0.0</td>\n",
              "      <td>0.0</td>\n",
              "      <td>0.0</td>\n",
              "      <td>0.0</td>\n",
              "    </tr>\n",
              "    <tr>\n",
              "      <th>25%</th>\n",
              "      <td>2.000000</td>\n",
              "      <td>0.0</td>\n",
              "      <td>0.0</td>\n",
              "      <td>0.0</td>\n",
              "      <td>0.0</td>\n",
              "      <td>0.0</td>\n",
              "      <td>0.0</td>\n",
              "      <td>0.0</td>\n",
              "      <td>0.0</td>\n",
              "      <td>0.0</td>\n",
              "      <td>...</td>\n",
              "      <td>0.000000</td>\n",
              "      <td>0.000000</td>\n",
              "      <td>0.000000</td>\n",
              "      <td>0.000000</td>\n",
              "      <td>0.000000</td>\n",
              "      <td>0.0000</td>\n",
              "      <td>0.0</td>\n",
              "      <td>0.0</td>\n",
              "      <td>0.0</td>\n",
              "      <td>0.0</td>\n",
              "    </tr>\n",
              "    <tr>\n",
              "      <th>50%</th>\n",
              "      <td>4.000000</td>\n",
              "      <td>0.0</td>\n",
              "      <td>0.0</td>\n",
              "      <td>0.0</td>\n",
              "      <td>0.0</td>\n",
              "      <td>0.0</td>\n",
              "      <td>0.0</td>\n",
              "      <td>0.0</td>\n",
              "      <td>0.0</td>\n",
              "      <td>0.0</td>\n",
              "      <td>...</td>\n",
              "      <td>0.000000</td>\n",
              "      <td>0.000000</td>\n",
              "      <td>0.000000</td>\n",
              "      <td>0.000000</td>\n",
              "      <td>0.000000</td>\n",
              "      <td>0.0000</td>\n",
              "      <td>0.0</td>\n",
              "      <td>0.0</td>\n",
              "      <td>0.0</td>\n",
              "      <td>0.0</td>\n",
              "    </tr>\n",
              "    <tr>\n",
              "      <th>75%</th>\n",
              "      <td>7.000000</td>\n",
              "      <td>0.0</td>\n",
              "      <td>0.0</td>\n",
              "      <td>0.0</td>\n",
              "      <td>0.0</td>\n",
              "      <td>0.0</td>\n",
              "      <td>0.0</td>\n",
              "      <td>0.0</td>\n",
              "      <td>0.0</td>\n",
              "      <td>0.0</td>\n",
              "      <td>...</td>\n",
              "      <td>0.000000</td>\n",
              "      <td>0.000000</td>\n",
              "      <td>0.000000</td>\n",
              "      <td>0.000000</td>\n",
              "      <td>0.000000</td>\n",
              "      <td>0.0000</td>\n",
              "      <td>0.0</td>\n",
              "      <td>0.0</td>\n",
              "      <td>0.0</td>\n",
              "      <td>0.0</td>\n",
              "    </tr>\n",
              "    <tr>\n",
              "      <th>max</th>\n",
              "      <td>9.000000</td>\n",
              "      <td>0.0</td>\n",
              "      <td>0.0</td>\n",
              "      <td>0.0</td>\n",
              "      <td>0.0</td>\n",
              "      <td>0.0</td>\n",
              "      <td>0.0</td>\n",
              "      <td>0.0</td>\n",
              "      <td>0.0</td>\n",
              "      <td>0.0</td>\n",
              "      <td>...</td>\n",
              "      <td>254.000000</td>\n",
              "      <td>254.000000</td>\n",
              "      <td>253.000000</td>\n",
              "      <td>253.000000</td>\n",
              "      <td>254.000000</td>\n",
              "      <td>62.0000</td>\n",
              "      <td>0.0</td>\n",
              "      <td>0.0</td>\n",
              "      <td>0.0</td>\n",
              "      <td>0.0</td>\n",
              "    </tr>\n",
              "  </tbody>\n",
              "</table>\n",
              "<p>8 rows × 785 columns</p>\n",
              "</div>\n",
              "      <button class=\"colab-df-convert\" onclick=\"convertToInteractive('df-58ca7910-7e9a-450b-ab82-19d7712ef001')\"\n",
              "              title=\"Convert this dataframe to an interactive table.\"\n",
              "              style=\"display:none;\">\n",
              "        \n",
              "  <svg xmlns=\"http://www.w3.org/2000/svg\" height=\"24px\"viewBox=\"0 0 24 24\"\n",
              "       width=\"24px\">\n",
              "    <path d=\"M0 0h24v24H0V0z\" fill=\"none\"/>\n",
              "    <path d=\"M18.56 5.44l.94 2.06.94-2.06 2.06-.94-2.06-.94-.94-2.06-.94 2.06-2.06.94zm-11 1L8.5 8.5l.94-2.06 2.06-.94-2.06-.94L8.5 2.5l-.94 2.06-2.06.94zm10 10l.94 2.06.94-2.06 2.06-.94-2.06-.94-.94-2.06-.94 2.06-2.06.94z\"/><path d=\"M17.41 7.96l-1.37-1.37c-.4-.4-.92-.59-1.43-.59-.52 0-1.04.2-1.43.59L10.3 9.45l-7.72 7.72c-.78.78-.78 2.05 0 2.83L4 21.41c.39.39.9.59 1.41.59.51 0 1.02-.2 1.41-.59l7.78-7.78 2.81-2.81c.8-.78.8-2.07 0-2.86zM5.41 20L4 18.59l7.72-7.72 1.47 1.35L5.41 20z\"/>\n",
              "  </svg>\n",
              "      </button>\n",
              "      \n",
              "  <style>\n",
              "    .colab-df-container {\n",
              "      display:flex;\n",
              "      flex-wrap:wrap;\n",
              "      gap: 12px;\n",
              "    }\n",
              "\n",
              "    .colab-df-convert {\n",
              "      background-color: #E8F0FE;\n",
              "      border: none;\n",
              "      border-radius: 50%;\n",
              "      cursor: pointer;\n",
              "      display: none;\n",
              "      fill: #1967D2;\n",
              "      height: 32px;\n",
              "      padding: 0 0 0 0;\n",
              "      width: 32px;\n",
              "    }\n",
              "\n",
              "    .colab-df-convert:hover {\n",
              "      background-color: #E2EBFA;\n",
              "      box-shadow: 0px 1px 2px rgba(60, 64, 67, 0.3), 0px 1px 3px 1px rgba(60, 64, 67, 0.15);\n",
              "      fill: #174EA6;\n",
              "    }\n",
              "\n",
              "    [theme=dark] .colab-df-convert {\n",
              "      background-color: #3B4455;\n",
              "      fill: #D2E3FC;\n",
              "    }\n",
              "\n",
              "    [theme=dark] .colab-df-convert:hover {\n",
              "      background-color: #434B5C;\n",
              "      box-shadow: 0px 1px 3px 1px rgba(0, 0, 0, 0.15);\n",
              "      filter: drop-shadow(0px 1px 2px rgba(0, 0, 0, 0.3));\n",
              "      fill: #FFFFFF;\n",
              "    }\n",
              "  </style>\n",
              "\n",
              "      <script>\n",
              "        const buttonEl =\n",
              "          document.querySelector('#df-58ca7910-7e9a-450b-ab82-19d7712ef001 button.colab-df-convert');\n",
              "        buttonEl.style.display =\n",
              "          google.colab.kernel.accessAllowed ? 'block' : 'none';\n",
              "\n",
              "        async function convertToInteractive(key) {\n",
              "          const element = document.querySelector('#df-58ca7910-7e9a-450b-ab82-19d7712ef001');\n",
              "          const dataTable =\n",
              "            await google.colab.kernel.invokeFunction('convertToInteractive',\n",
              "                                                     [key], {});\n",
              "          if (!dataTable) return;\n",
              "\n",
              "          const docLinkHtml = 'Like what you see? Visit the ' +\n",
              "            '<a target=\"_blank\" href=https://colab.research.google.com/notebooks/data_table.ipynb>data table notebook</a>'\n",
              "            + ' to learn more about interactive tables.';\n",
              "          element.innerHTML = '';\n",
              "          dataTable['output_type'] = 'display_data';\n",
              "          await google.colab.output.renderOutput(dataTable, element);\n",
              "          const docLink = document.createElement('div');\n",
              "          docLink.innerHTML = docLinkHtml;\n",
              "          element.appendChild(docLink);\n",
              "        }\n",
              "      </script>\n",
              "    </div>\n",
              "  </div>\n",
              "  "
            ]
          },
          "metadata": {},
          "execution_count": 12
        }
      ]
    },
    {
      "cell_type": "markdown",
      "source": [
        "**Data Cleaning and Normalization**"
      ],
      "metadata": {
        "id": "BaRi3a4KNzoK"
      }
    },
    {
      "cell_type": "code",
      "source": [
        "mnist_train.isna().any().any()"
      ],
      "metadata": {
        "colab": {
          "base_uri": "https://localhost:8080/"
        },
        "id": "dwTWkeWnN2Go",
        "outputId": "eaccb6ce-b3fd-4eb3-c9b8-f44596176f5e"
      },
      "execution_count": null,
      "outputs": [
        {
          "output_type": "execute_result",
          "data": {
            "text/plain": [
              "False"
            ]
          },
          "metadata": {},
          "execution_count": 13
        }
      ]
    },
    {
      "cell_type": "markdown",
      "source": [
        "**Data Normalization**"
      ],
      "metadata": {
        "id": "FkAGlstuN9m4"
      }
    },
    {
      "cell_type": "code",
      "source": [
        "label=mnist_train['label'] # save label data for later use\n",
        "mnist_train.drop('label', axis = 1, inplace = True)"
      ],
      "metadata": {
        "id": "FuC1jGu2POIw"
      },
      "execution_count": null,
      "outputs": []
    },
    {
      "cell_type": "code",
      "source": [
        "# converting in 0 & 1\n",
        "\n",
        "from sklearn.preprocessing import StandardScaler\n",
        "mnist_train_standardized = StandardScaler().fit_transform(mnist_train)"
      ],
      "metadata": {
        "id": "PnCiTANVPlmq"
      },
      "execution_count": null,
      "outputs": []
    },
    {
      "cell_type": "code",
      "source": [
        "covMatrix = np.matmul(mnist_train_standardized.T ,mnist_train_standardized) # matrix multiplication in numpy"
      ],
      "metadata": {
        "id": "XRzbv19aP86x"
      },
      "execution_count": null,
      "outputs": []
    },
    {
      "cell_type": "markdown",
      "source": [
        "**Calculating Eigen Values and Eigen Vectors**"
      ],
      "metadata": {
        "id": "KMGki2yoQJH9"
      }
    },
    {
      "cell_type": "code",
      "source": [
        "from scipy.linalg import eigh\n",
        "values, vector = eigh(covMatrix,eigvals=(782,783))\n",
        "values"
      ],
      "metadata": {
        "colab": {
          "base_uri": "https://localhost:8080/"
        },
        "id": "1Yc_yyTJQQDg",
        "outputId": "33918ca5-16d6-46ea-d2cd-b98409529204"
      },
      "execution_count": null,
      "outputs": [
        {
          "output_type": "stream",
          "name": "stderr",
          "text": [
            "<ipython-input-17-fd48076340ce>:2: DeprecationWarning: Keyword argument 'eigvals' is deprecated in favour of 'subset_by_index' keyword instead and will be removed in SciPy 1.12.0.\n",
            "  values, vector = eigh(covMatrix,eigvals=(782,783))\n"
          ]
        },
        {
          "output_type": "execute_result",
          "data": {
            "text/plain": [
              "array([1754472.60943943, 2429217.61887289])"
            ]
          },
          "metadata": {},
          "execution_count": 17
        }
      ]
    },
    {
      "cell_type": "markdown",
      "source": [
        "**Transpose the eigen vector**"
      ],
      "metadata": {
        "id": "k6FVBfPoQc-A"
      }
    },
    {
      "cell_type": "code",
      "source": [
        "print(\"The shape before\",vector.shape)\n",
        "vector=vector.T\n",
        "print(\"The new shape\",vector.shape)"
      ],
      "metadata": {
        "colab": {
          "base_uri": "https://localhost:8080/"
        },
        "id": "kPCXoM2ZQgda",
        "outputId": "8009c74c-e5d1-4089-ed75-289f937394ce"
      },
      "execution_count": null,
      "outputs": [
        {
          "output_type": "stream",
          "name": "stdout",
          "text": [
            "The shape before (784, 2)\n",
            "The new shape (2, 784)\n"
          ]
        }
      ]
    },
    {
      "cell_type": "markdown",
      "source": [
        "**Rriginal data on the vector plane formed using vector multiplication.**"
      ],
      "metadata": {
        "id": "l6A0kztyQtjH"
      }
    },
    {
      "cell_type": "code",
      "source": [
        "projectedData = np.matmul(vector, mnist_train_standardized.T)"
      ],
      "metadata": {
        "id": "XG_yl-UjQv94"
      },
      "execution_count": null,
      "outputs": []
    },
    {
      "cell_type": "markdown",
      "source": [
        "**Final dataframe for Visualization**"
      ],
      "metadata": {
        "id": "z6XcdzQvRCgx"
      }
    },
    {
      "cell_type": "code",
      "source": [
        "reducedData = np.vstack((projectedData, label)).T #Stack with labels\n",
        "reducedData = pd.DataFrame(reducedData, columns = ['pca_1', 'pca_2', 'label'])\n",
        "print(reducedData)\n",
        "reducedData.describe()"
      ],
      "metadata": {
        "colab": {
          "base_uri": "https://localhost:8080/",
          "height": 543
        },
        "id": "OGLumVNfRI4S",
        "outputId": "86b8d3e5-e980-43e2-b744-5c6ba57586dd"
      },
      "execution_count": null,
      "outputs": [
        {
          "output_type": "stream",
          "name": "stdout",
          "text": [
            "          pca_1     pca_2  label\n",
            "0     -4.814790 -0.922159    5.0\n",
            "1     -7.754403  8.708977    0.0\n",
            "2      9.431338  2.328389    4.0\n",
            "3     -3.746318 -6.582173    1.0\n",
            "4      3.133297 -5.183251    9.0\n",
            "...         ...       ...    ...\n",
            "59995 -5.119129 -2.039339    8.0\n",
            "59996 -6.498440  0.607841    3.0\n",
            "59997 -3.230564 -3.777212    5.0\n",
            "59998 -4.948125  1.722369    6.0\n",
            "59999 -6.175386 -1.427251    8.0\n",
            "\n",
            "[60000 rows x 3 columns]\n"
          ]
        },
        {
          "output_type": "execute_result",
          "data": {
            "text/plain": [
              "              pca_1         pca_2         label\n",
              "count  6.000000e+04  6.000000e+04  60000.000000\n",
              "mean   6.063298e-17 -3.211653e-16      4.453933\n",
              "std    5.407559e+00  6.362989e+00      2.889270\n",
              "min   -1.778480e+01 -9.368219e+00      0.000000\n",
              "25%   -3.430592e+00 -4.682982e+00      2.000000\n",
              "50%   -4.690500e-01 -1.363513e+00      4.000000\n",
              "75%    3.257416e+00  3.160637e+00      7.000000\n",
              "max    2.811128e+01  3.222950e+01      9.000000"
            ],
            "text/html": [
              "\n",
              "  <div id=\"df-47416579-ecb1-419a-b219-80e3225ddec6\">\n",
              "    <div class=\"colab-df-container\">\n",
              "      <div>\n",
              "<style scoped>\n",
              "    .dataframe tbody tr th:only-of-type {\n",
              "        vertical-align: middle;\n",
              "    }\n",
              "\n",
              "    .dataframe tbody tr th {\n",
              "        vertical-align: top;\n",
              "    }\n",
              "\n",
              "    .dataframe thead th {\n",
              "        text-align: right;\n",
              "    }\n",
              "</style>\n",
              "<table border=\"1\" class=\"dataframe\">\n",
              "  <thead>\n",
              "    <tr style=\"text-align: right;\">\n",
              "      <th></th>\n",
              "      <th>pca_1</th>\n",
              "      <th>pca_2</th>\n",
              "      <th>label</th>\n",
              "    </tr>\n",
              "  </thead>\n",
              "  <tbody>\n",
              "    <tr>\n",
              "      <th>count</th>\n",
              "      <td>6.000000e+04</td>\n",
              "      <td>6.000000e+04</td>\n",
              "      <td>60000.000000</td>\n",
              "    </tr>\n",
              "    <tr>\n",
              "      <th>mean</th>\n",
              "      <td>6.063298e-17</td>\n",
              "      <td>-3.211653e-16</td>\n",
              "      <td>4.453933</td>\n",
              "    </tr>\n",
              "    <tr>\n",
              "      <th>std</th>\n",
              "      <td>5.407559e+00</td>\n",
              "      <td>6.362989e+00</td>\n",
              "      <td>2.889270</td>\n",
              "    </tr>\n",
              "    <tr>\n",
              "      <th>min</th>\n",
              "      <td>-1.778480e+01</td>\n",
              "      <td>-9.368219e+00</td>\n",
              "      <td>0.000000</td>\n",
              "    </tr>\n",
              "    <tr>\n",
              "      <th>25%</th>\n",
              "      <td>-3.430592e+00</td>\n",
              "      <td>-4.682982e+00</td>\n",
              "      <td>2.000000</td>\n",
              "    </tr>\n",
              "    <tr>\n",
              "      <th>50%</th>\n",
              "      <td>-4.690500e-01</td>\n",
              "      <td>-1.363513e+00</td>\n",
              "      <td>4.000000</td>\n",
              "    </tr>\n",
              "    <tr>\n",
              "      <th>75%</th>\n",
              "      <td>3.257416e+00</td>\n",
              "      <td>3.160637e+00</td>\n",
              "      <td>7.000000</td>\n",
              "    </tr>\n",
              "    <tr>\n",
              "      <th>max</th>\n",
              "      <td>2.811128e+01</td>\n",
              "      <td>3.222950e+01</td>\n",
              "      <td>9.000000</td>\n",
              "    </tr>\n",
              "  </tbody>\n",
              "</table>\n",
              "</div>\n",
              "      <button class=\"colab-df-convert\" onclick=\"convertToInteractive('df-47416579-ecb1-419a-b219-80e3225ddec6')\"\n",
              "              title=\"Convert this dataframe to an interactive table.\"\n",
              "              style=\"display:none;\">\n",
              "        \n",
              "  <svg xmlns=\"http://www.w3.org/2000/svg\" height=\"24px\"viewBox=\"0 0 24 24\"\n",
              "       width=\"24px\">\n",
              "    <path d=\"M0 0h24v24H0V0z\" fill=\"none\"/>\n",
              "    <path d=\"M18.56 5.44l.94 2.06.94-2.06 2.06-.94-2.06-.94-.94-2.06-.94 2.06-2.06.94zm-11 1L8.5 8.5l.94-2.06 2.06-.94-2.06-.94L8.5 2.5l-.94 2.06-2.06.94zm10 10l.94 2.06.94-2.06 2.06-.94-2.06-.94-.94-2.06-.94 2.06-2.06.94z\"/><path d=\"M17.41 7.96l-1.37-1.37c-.4-.4-.92-.59-1.43-.59-.52 0-1.04.2-1.43.59L10.3 9.45l-7.72 7.72c-.78.78-.78 2.05 0 2.83L4 21.41c.39.39.9.59 1.41.59.51 0 1.02-.2 1.41-.59l7.78-7.78 2.81-2.81c.8-.78.8-2.07 0-2.86zM5.41 20L4 18.59l7.72-7.72 1.47 1.35L5.41 20z\"/>\n",
              "  </svg>\n",
              "      </button>\n",
              "      \n",
              "  <style>\n",
              "    .colab-df-container {\n",
              "      display:flex;\n",
              "      flex-wrap:wrap;\n",
              "      gap: 12px;\n",
              "    }\n",
              "\n",
              "    .colab-df-convert {\n",
              "      background-color: #E8F0FE;\n",
              "      border: none;\n",
              "      border-radius: 50%;\n",
              "      cursor: pointer;\n",
              "      display: none;\n",
              "      fill: #1967D2;\n",
              "      height: 32px;\n",
              "      padding: 0 0 0 0;\n",
              "      width: 32px;\n",
              "    }\n",
              "\n",
              "    .colab-df-convert:hover {\n",
              "      background-color: #E2EBFA;\n",
              "      box-shadow: 0px 1px 2px rgba(60, 64, 67, 0.3), 0px 1px 3px 1px rgba(60, 64, 67, 0.15);\n",
              "      fill: #174EA6;\n",
              "    }\n",
              "\n",
              "    [theme=dark] .colab-df-convert {\n",
              "      background-color: #3B4455;\n",
              "      fill: #D2E3FC;\n",
              "    }\n",
              "\n",
              "    [theme=dark] .colab-df-convert:hover {\n",
              "      background-color: #434B5C;\n",
              "      box-shadow: 0px 1px 3px 1px rgba(0, 0, 0, 0.15);\n",
              "      filter: drop-shadow(0px 1px 2px rgba(0, 0, 0, 0.3));\n",
              "      fill: #FFFFFF;\n",
              "    }\n",
              "  </style>\n",
              "\n",
              "      <script>\n",
              "        const buttonEl =\n",
              "          document.querySelector('#df-47416579-ecb1-419a-b219-80e3225ddec6 button.colab-df-convert');\n",
              "        buttonEl.style.display =\n",
              "          google.colab.kernel.accessAllowed ? 'block' : 'none';\n",
              "\n",
              "        async function convertToInteractive(key) {\n",
              "          const element = document.querySelector('#df-47416579-ecb1-419a-b219-80e3225ddec6');\n",
              "          const dataTable =\n",
              "            await google.colab.kernel.invokeFunction('convertToInteractive',\n",
              "                                                     [key], {});\n",
              "          if (!dataTable) return;\n",
              "\n",
              "          const docLinkHtml = 'Like what you see? Visit the ' +\n",
              "            '<a target=\"_blank\" href=https://colab.research.google.com/notebooks/data_table.ipynb>data table notebook</a>'\n",
              "            + ' to learn more about interactive tables.';\n",
              "          element.innerHTML = '';\n",
              "          dataTable['output_type'] = 'display_data';\n",
              "          await google.colab.output.renderOutput(dataTable, element);\n",
              "          const docLink = document.createElement('div');\n",
              "          docLink.innerHTML = docLinkHtml;\n",
              "          element.appendChild(docLink);\n",
              "        }\n",
              "      </script>\n",
              "    </div>\n",
              "  </div>\n",
              "  "
            ]
          },
          "metadata": {},
          "execution_count": 20
        }
      ]
    },
    {
      "cell_type": "markdown",
      "source": [
        "**Plot the data**"
      ],
      "metadata": {
        "id": "HqZt-EfURZt4"
      }
    },
    {
      "cell_type": "code",
      "source": [
        "sns.set_style(\"darkgrid\")"
      ],
      "metadata": {
        "id": "GF6pg9fTZ8oQ"
      },
      "execution_count": null,
      "outputs": []
    },
    {
      "cell_type": "code",
      "source": [
        "sns.FacetGrid(reducedData, hue = 'label') \\.map(sns.scatterplot, 'pca_1', 'pca_2') \\.add_legend()"
      ],
      "metadata": {
        "colab": {
          "base_uri": "https://localhost:8080/",
          "height": 324
        },
        "id": "rhgUPq4URdF9",
        "outputId": "c557458d-5db6-4df9-d634-aba7d2706467"
      },
      "execution_count": null,
      "outputs": [
        {
          "output_type": "execute_result",
          "data": {
            "text/plain": [
              "<seaborn.axisgrid.FacetGrid at 0x7fb3f60ecd00>"
            ]
          },
          "metadata": {},
          "execution_count": 22
        },
        {
          "output_type": "display_data",
          "data": {
            "text/plain": [
              "<Figure size 372x300 with 1 Axes>"
            ],
            "image/png": "[encoded data removed]"
          },
          "metadata": {}
        }
      ]
    },
    {
      "cell_type": "markdown",
      "source": [],
      "metadata": {
        "id": "9jUzYkugVBKT"
      }
    },
    {
      "cell_type": "markdown",
      "source": [
        "**Testing data**"
      ],
      "metadata": {
        "id": "hhmSNZhfV4MY"
      }
    },
    {
      "cell_type": "code",
      "source": [
        "def mnist_train(return_models):\n",
        "    models = return_models\n",
        "    for model in models:\n",
        "        print(\"Checking for \" + str(model.__class__.__name__))\n",
        "    \n",
        "        result_digit = model.predict(np.array(mnist_train).reshape(1, -1))\n",
        "        #check.equal(result_digit)\n",
        "        print(result_digit)"
      ],
      "metadata": {
        "id": "xh-dCJyaWvwS"
      },
      "execution_count": null,
      "outputs": []
    }
  ]
}